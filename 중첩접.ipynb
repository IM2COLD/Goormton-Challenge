{
  "nbformat": 4,
  "nbformat_minor": 0,
  "metadata": {
    "colab": {
      "provenance": []
    },
    "kernelspec": {
      "name": "python3",
      "display_name": "Python 3"
    },
    "language_info": {
      "name": "python"
    }
  },
  "cells": [
    {
      "cell_type": "code",
      "source": [
        "# My Code\n",
        "N, M = map(int,input().split())\n",
        "way = [list(input().split()) for _ in range(M)]\n",
        "horizonal = [0 for _ in range(N**2+1)]\n",
        "vertical = [0 for _ in range(N**2+1)]\n",
        "crss = 0\n",
        "\n",
        "for i in way:\n",
        "\tynum = int(i[0])\n",
        "\txnum = int(i[1])\n",
        "\tdirection = str(i[2])\n",
        "\tstrt = (ynum-1) * N + xnum\n",
        "\n",
        "\tif direction == 'U':\n",
        "\t\taddlst = list(range(xnum,strt+1,N))\n",
        "\t\tfor k in addlst:\n",
        "\t\t\tcrss += horizonal[k]\n",
        "\t\t\tvertical[k] += 1\n",
        "\n",
        "\telif direction == 'D':\n",
        "\t\taddlst = list(range(strt, N**2+1 ,N))\n",
        "\t\tfor k in addlst:\n",
        "\t\t\tcrss += horizonal[k]\n",
        "\t\t\tvertical[k] += 1\n",
        "\n",
        "\telif direction == 'L':\n",
        "\t\taddlst = list(range((ynum-1)*N+1,strt+1))\n",
        "\t\tfor k in addlst:\n",
        "\t\t\tcrss += vertical[k]\n",
        "\t\t\thorizonal[k] += 1\n",
        "\n",
        "\telif direction == 'R':\n",
        "\t\taddlst = list(range(strt, (ynum*N)+1))\n",
        "\t\tfor k in addlst:\n",
        "\t\t\tcrss += vertical[k]\n",
        "\t\t\thorizonal[k] += 1\n",
        "\n",
        "print(crss)"
      ],
      "metadata": {
        "id": "WOqivVkikDXZ"
      },
      "execution_count": null,
      "outputs": []
    },
    {
      "cell_type": "code",
      "source": [
        "# Answer Code\n",
        "N, M = map(int, input().split())\n",
        "arr = [[[0, 0] for _ in range(N)] for _ in range(N)]\n",
        "# N x N 크기의 배열을 선언하고, 각 칸을 [0, 0] 으로 초기화 해줍니다.\n",
        "# 이 때, 이 값을 [ 세로선의 개수, 가로선의 개수 ] 로 정의하겠습니다.\n",
        "\n",
        "for _ in range(M):\n",
        "\ty, x, d = input().split()\n",
        "\ty = int(y) - 1\n",
        "\tx = int(x) - 1\n",
        "\n",
        "\tif d == \"R\":\n",
        "\t\tfor j in range(x, N):\n",
        "\t\t\tarr[y][j][1] += 1\n",
        "\telif d == \"L\":\n",
        "\t\tfor j in range(x + 1):\n",
        "\t\t\tarr[y][j][1] += 1\n",
        "\telif d == \"U\":\n",
        "\t\tfor i in range(y + 1):\n",
        "\t\t\tarr[i][x][0] += 1\n",
        "\telif d == \"D\":\n",
        "\t\tfor i in range(y, N):\n",
        "\t\t\tarr[i][x][0] += 1\n",
        "\n",
        "result = 0\n",
        "\n",
        "for i in range(N):\n",
        "\tfor j in range(N):\n",
        "\t\tresult += arr[i][j][0] * arr[i][j][1]\n",
        "\n",
        "print(result)\n",
        "\n",
        "for _ in range(M):\n",
        "\ty, x, d = input().split()\n",
        "\ty = int(y) - 1\n",
        "\tx = int(x) - 1\n",
        "\n",
        "\tif d == \"R\":\n",
        "\t\tfor j in range(x, N):\n",
        "\t\t\tarr[y][j][1] += 1\n",
        "\telif d == \"L\":\n",
        "\t\tfor j in range(x + 1):\n",
        "\t\t\tarr[y][j][1] += 1\n",
        "\telif d == \"U\":\n",
        "\t\tfor i in range(y + 1):\n",
        "\t\t\tarr[i][x][0] += 1\n",
        "\telif d == \"D\":\n",
        "\t\tfor i in range(y, N):\n",
        "\t\t\tarr[i][x][0] += 1\n",
        "\n",
        "result = 0\n",
        "\n",
        "for i in range(N):\n",
        "\tfor j in range(N):\n",
        "\t\tresult += arr[i][j][0] * arr[i][j][1]\n",
        "\n",
        "print(result)"
      ],
      "metadata": {
        "id": "zWZWri9Eq4uI"
      },
      "execution_count": null,
      "outputs": []
    },
    {
      "cell_type": "markdown",
      "source": [
        "\n",
        "\n",
        "```python\n",
        "# 정답을 저장할 변수를 선언합니다.\n",
        "result = 0\n",
        "\n",
        "# 정사각형의 모든 칸을 순회할게요.\n",
        "for i in range(N):\n",
        "\tfor j in range(N):\n",
        "\t\t# 교점은 각 칸의 가로선 * 세로선 만큼 생깁니다.\n",
        "\t\tresult += arr[i][j][0] * arr[i][j][1]\n",
        "\n",
        "print(result)\n",
        "```\n"
      ],
      "metadata": {
        "id": "rfFSWLMRsNNn"
      }
    },
    {
      "cell_type": "markdown",
      "source": [
        "### 코드에 쓰인 개념"
      ],
      "metadata": {
        "id": "bnI8q2RjsTx-"
      }
    },
    {
      "cell_type": "code",
      "source": [
        "addlst = list(range(2,17,4))\n",
        "addlst"
      ],
      "metadata": {
        "colab": {
          "base_uri": "https://localhost:8080/"
        },
        "id": "574VxnK-dvEs",
        "outputId": "38ad204e-072a-4c08-90c1-a9ed618cd379"
      },
      "execution_count": 16,
      "outputs": [
        {
          "output_type": "execute_result",
          "data": {
            "text/plain": [
              "[2, 6, 10, 14]"
            ]
          },
          "metadata": {},
          "execution_count": 16
        }
      ]
    },
    {
      "cell_type": "code",
      "source": [
        "print([[] for _ in range(5)])"
      ],
      "metadata": {
        "colab": {
          "base_uri": "https://localhost:8080/"
        },
        "id": "gVmrFaaQeLFx",
        "outputId": "14dab1d2-e893-46f3-d6da-05439515a4db"
      },
      "execution_count": 22,
      "outputs": [
        {
          "output_type": "stream",
          "name": "stdout",
          "text": [
            "[[], [], [], [], []]\n"
          ]
        }
      ]
    },
    {
      "cell_type": "markdown",
      "source": [
        "## **2개의 list에서 겹치는 원소의 개수 찾기**\n",
        "- 처음엔, set을 활용해서 계산을 하려 했는데, 같은 line에 n개의 줄이 존재할 수 있어, set을 사용하지 않고 list로 계산했다.\n",
        "- list comprehension\n",
        "- set.intersection\n"
      ],
      "metadata": {
        "id": "jFVBgZAgYNrd"
      }
    },
    {
      "cell_type": "markdown",
      "source": [
        "Set 합집합\n",
        "\n",
        "\n",
        "```python\n",
        "s1 = {1, 2, 3, 4, 5}\n",
        "s2 = {4, 5, 6, 7}\n",
        "s1|s2\n",
        "{1, 2, 3, 4, 5, 6, 7}\n",
        "\n",
        "s2.union(s1)\n",
        "{1, 2, 3, 4, 5, 6, 7}\n",
        "```\n",
        "\n"
      ],
      "metadata": {
        "id": "3LjUw2PIxrpZ"
      }
    },
    {
      "cell_type": "markdown",
      "source": [
        " set 교집합\n",
        " - &\n",
        " - set자료형.intersection"
      ],
      "metadata": {
        "id": "dQnJCw4Tx4bk"
      }
    },
    {
      "cell_type": "code",
      "execution_count": 2,
      "metadata": {
        "id": "Oq0UfyOnWART",
        "colab": {
          "base_uri": "https://localhost:8080/"
        },
        "outputId": "2e794e55-2532-4479-fa7b-c471bca8d4dc"
      },
      "outputs": [
        {
          "output_type": "execute_result",
          "data": {
            "text/plain": [
              "[3, 4]"
            ]
          },
          "metadata": {},
          "execution_count": 2
        }
      ],
      "source": [
        "b1 = [1,2,3,4]\n",
        "b2 = [3,4,5,6]\n",
        "b3 = list(set(b1).intersection(b2))\n",
        "b3"
      ]
    },
    {
      "cell_type": "code",
      "source": [
        "b4 = [1,2,3,8,4,5]\n",
        "b5 = [[3,4],[5,6]]\n",
        "b6 = [list(set(b4).intersection(i)) for i in b5]\n",
        "b6"
      ],
      "metadata": {
        "colab": {
          "base_uri": "https://localhost:8080/"
        },
        "id": "61sx0HbkYoVV",
        "outputId": "54370a5c-dc58-4e23-eb46-ba46ade19b71"
      },
      "execution_count": 11,
      "outputs": [
        {
          "output_type": "execute_result",
          "data": {
            "text/plain": [
              "[[3, 4], [5]]"
            ]
          },
          "metadata": {},
          "execution_count": 11
        }
      ]
    },
    {
      "cell_type": "markdown",
      "source": [
        "Set 차집합\n",
        "\n",
        "```python\n",
        "s1 = {1, 2, 3, 4, 5}\n",
        "s2 = {4, 5, 6, 7}\n",
        "s1 - s2\n",
        "{1, 2, 3}\n",
        "\n",
        "s1.difference(s2)\n",
        "{1, 2, 3}\n",
        "```\n",
        "\n"
      ],
      "metadata": {
        "id": "CF5YSq2ax-FH"
      }
    },
    {
      "cell_type": "markdown",
      "source": [
        "Set에 값 추가하기\n",
        "- 1개 추가 : add\n",
        "- 여러 개 추가 : update\n",
        "- 특정 값 추가 : remove"
      ],
      "metadata": {
        "id": "EGZ6-zxYyGyU"
      }
    }
  ]
}