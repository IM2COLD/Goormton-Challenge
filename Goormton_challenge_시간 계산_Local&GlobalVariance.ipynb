{
  "nbformat": 4,
  "nbformat_minor": 0,
  "metadata": {
    "colab": {
      "provenance": []
    },
    "kernelspec": {
      "name": "python3",
      "display_name": "Python 3"
    },
    "language_info": {
      "name": "python"
    }
  },
  "cells": [
    {
      "cell_type": "markdown",
      "source": [
        "**Tip! 코드를 짜기 전에 종이에 코드의 전체적인 구조를 그려보고, 짜면 더 효과적이다.**\n",
        "- 시간을 계산할 때 시와 분을 따로 나타내려면, 전체 minute을 계산 후, 60으로 나누었을 때 몫이 시간, 나머지가 분이 된다."
      ],
      "metadata": {
        "id": "RY6bJoDJPXOr"
      }
    },
    {
      "cell_type": "code",
      "source": [
        "# Code\n",
        "function_N = int(input())\n",
        "T,M = map(int,input().split())\n",
        "C = []\n",
        "if function_N >=1 :\n",
        "\tfor i in range(1, function_N+1):\n",
        "\t\tC.append(int(input()))\n",
        "sumlist = sum(C)\n",
        "plus_t = int(sumlist // 60)\n",
        "real_m = int(sumlist % 60)\n",
        "T = T + plus_t\n",
        "M = real_m + M\n",
        "if M >= 60 :\n",
        "\treal_M = M % 60\n",
        "\tpllust = M // 60\n",
        "\tM = real_M\n",
        "\tT = T + pllust\n",
        "\n",
        "if T >= 24:\n",
        "\tT = T % 24\n",
        "\n",
        "print(str(T), str(M))"
      ],
      "metadata": {
        "colab": {
          "base_uri": "https://localhost:8080/"
        },
        "id": "L6OyX3gC-f9G",
        "outputId": "1a479eb0-6f88-4c44-adef-6bad75614b82"
      },
      "execution_count": 5,
      "outputs": [
        {
          "output_type": "stream",
          "name": "stdout",
          "text": [
            "3\n",
            "10 10\n",
            "50\n",
            "33\n",
            "23\n",
            "11 56\n"
          ]
        }
      ]
    },
    {
      "cell_type": "code",
      "execution_count": 3,
      "metadata": {
        "colab": {
          "base_uri": "https://localhost:8080/"
        },
        "id": "4JMJsV28zJEf",
        "outputId": "f0ed7c48-aab2-48b2-f4a2-3b23c1e77ea5"
      },
      "outputs": [
        {
          "output_type": "stream",
          "name": "stdout",
          "text": [
            "9 8\n"
          ]
        }
      ],
      "source": [
        "# 문자열 출력\n",
        "print(str('9'), str('8'))"
      ]
    },
    {
      "cell_type": "markdown",
      "source": [
        "> - str('a') + str('b') => ab\n",
        "- str('a'), str('b') => a b"
      ],
      "metadata": {
        "id": "qfWcmL7H-X-n"
      }
    },
    {
      "cell_type": "markdown",
      "source": [
        "\n",
        "### **Error**\n",
        "```python\n",
        "# 문제점 1\n",
        "if M >= 60:\n",
        "\trealreal_m = M % 60\n",
        "\tplus_TT = M // 60\n",
        "T = plus_TT + T\n",
        "# loval variance가 if 문 밖으로 나가서 활약은 불가\n",
        "```\n",
        "> The variable plus_TT is defined within the scope of the if statement, which means it will only exist and be accessible within that block of code.\n",
        "\n",
        "```python\n",
        "# solution\n",
        "if M >= 60:\n",
        "\trealreal_m = M % 60\n",
        "\tplus_TT = M // 60\n",
        "\tT = plus_TT + T\n",
        "# global variance는 반복문 안에서도 수정 가능\n",
        "```"
      ],
      "metadata": {
        "id": "DQK4eq1gAIlE"
      }
    },
    {
      "cell_type": "markdown",
      "source": [
        "# **Answer**"
      ],
      "metadata": {
        "id": "UJQwHLbIQT97"
      }
    },
    {
      "cell_type": "code",
      "source": [
        "# 기술 당 구현 시간을 입력받는 2가지 방법\n",
        "'''\n",
        "1. 일반적인 리스트 선언 후 값 추가하기\n",
        "\n",
        "비어있는 리스트 c를 선언하고, for 문을 이용해 입력받기를 N번 반복합니다.\n",
        "파이썬의 경우 리스트에 값을 추가하는 메소드는 append입니다.\n",
        "\n",
        "추가로, 보통의 경우 for 문을 사용할 때 i를 사용하곤 하는데\n",
        "아래와 같이 i가 사용되지 않는 경우 언더바(_)로 표기하기도 합니다.\n",
        "예시) for _ in range(N) ...\n",
        "'''\n",
        "c = []\n",
        "\n",
        "for i in range(N):\n",
        "\tc.append(int(input()))\n",
        "\n",
        "\n",
        "'''\n",
        "2. 리스트 컴프리헨션\n",
        "\n",
        "리스트 컴프리헨션이란 리스트 내부에 계산식, for 문, if 문을 한줄로 넣어서 새로운 리스트를 만드는\n",
        "파이썬만의 독특한 문법입니다.\n",
        "아래의 경우 int(input())을 N번 반복하여 값을 입력받은 리스트를 c에 저장한다는 의미입니다.\n",
        "'''\n",
        "c = [int(input()) for _ in range(N)]"
      ],
      "metadata": {
        "id": "ao9D_1-APyfy"
      },
      "execution_count": null,
      "outputs": []
    },
    {
      "cell_type": "code",
      "source": [
        "'''\n",
        "파이썬에서는 내장함수로 sum()을 지원합니다.\n",
        "sum에 튜플이나 리스트 등을 인자로 전달하면 그 내부에 있는 원소들을 모두 더한 값을 반환합니다.\n",
        "\n",
        "T에 60을 곱해 분으로 바꾸고, 주어진 M과 c의 총합과 합칩니다.\n",
        "이를 1440으로 나눠주면 이 값은 0분 ~ 1439분 범위 내의 값이 됩니다.\n",
        "'''\n",
        "\n",
        "time = (T * 60 + M + sum(c)) % 1440"
      ],
      "metadata": {
        "id": "PdOZjxB5QWLT"
      },
      "execution_count": null,
      "outputs": []
    },
    {
      "cell_type": "code",
      "source": [
        "'''\n",
        "time을 60으로 나눈 몫이 시, 60으로 나눈 나머지가 분\n",
        "\n",
        "파이썬에서 print() 내부에 쉼표로 구분하여 여러 값을 넣으면 공백으로 구분하여 출력해줍니다.\n",
        "'''\n",
        "hour = time // 60\n",
        "minute = time % 60\n",
        "\n",
        "print(hour, minute)"
      ],
      "metadata": {
        "id": "B6iLqIRMQaP7"
      },
      "execution_count": null,
      "outputs": []
    },
    {
      "cell_type": "code",
      "source": [
        "# Final Code\n",
        "N = int(input())\n",
        "T, M = map(int, input().split())\n",
        "c = [int(input()) for _ in range(N)]\n",
        "\n",
        "time = (T * 60 + M + sum(c)) % 1440\n",
        "\n",
        "hour = time // 60\n",
        "minute = time % 60\n",
        "\n",
        "print(hour, minute)"
      ],
      "metadata": {
        "id": "D5i5Ze4WQfle"
      },
      "execution_count": null,
      "outputs": []
    }
  ]
}