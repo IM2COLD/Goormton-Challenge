{
  "nbformat": 4,
  "nbformat_minor": 0,
  "metadata": {
    "colab": {
      "provenance": []
    },
    "kernelspec": {
      "name": "python3",
      "display_name": "Python 3"
    },
    "language_info": {
      "name": "python"
    }
  },
  "cells": [
    {
      "cell_type": "markdown",
      "source": [
        "## **Newly Noticed Acknowledge**\n",
        "- 2차원 배열 : 배열 in 배열\n",
        "- list 선언 -> 해당 list 내부에서 list 선언\n",
        "\n",
        "> list comprehension\n",
        "\n",
        "```python\n",
        "# 3x3 배열 컴프리헨션으로 만들기\n",
        "matrix = [[(i, j) for j in range(3)] for i in range(3)]\n",
        "for row in matrix:\n",
        "\tprint(row)\n",
        "'''\n",
        "[(0, 0), (0, 1), (0, 2)]\n",
        "[(1, 0), (1, 1), (1, 2)]\n",
        "[(2, 0), (2, 1), (2, 2)]\n",
        "'''\n",
        "```\n",
        "### **DX / DY 기법**\n",
        "- 현재 내 위치에서, 상하좌우, 대각선 방향으로의 이동이나 탐색을 구현할 떄 사용\n",
        "\n",
        "1. 이동의 중심은 항상 현재 위치이다. [현재 위치 : (i,j)]\n",
        "\n",
        "```python\n",
        "[\n",
        "\t[ (i - 1, j - 1), (i - 1, j), (i - 1, j + 1) ],\n",
        "\t[ (  i,   j - 1), (  i,   j), (  i,   j + 1) ],\n",
        "\t[ (i + 1, j - 1), (i + 1, j), (i + 1, j + 1) ]\n",
        "]\n",
        "```\n",
        "> - 상 : i - 1, j + 0\n",
        "- 하 : i + 1, j + 0\n",
        "- 좌 : i + 0, j + (-1)\n",
        "- 우 : i + 0, j + 1\n",
        "- 코드를 간결하게 구현하기 위해 변동이 없는 부분에도 의도적으로 0을 명시해줌\n",
        "\n",
        "```python\n",
        "dy = [1, -1, 0, 0]\n",
        "dx = [0, 0, 1, -1]\n",
        "# 어떤 기준 위치 i, j를 생각합니다.\n",
        "i = 1\n",
        "j = 1\n",
        "# 이 위치에 대하여 탐색 위치 y, x를 생각할게요.\n",
        "for k in range(4):\n",
        "\ty = i + dy[k]\n",
        "\tx = j + dx[k]\n",
        "\tprint(y, x)\n",
        "\"\"\"\n",
        "  2 1 (하)\n",
        "  0 1 (상)\n",
        "  1 0 (좌)\n",
        "  1 2 (우)\n",
        "\"\"\"\n",
        "```\n",
        "- 대각선까지 고려한 코드\n",
        "```python\n",
        "'''\n",
        "저는 보통 바로 위에서부터 시작하여, 반시계방향으로 돌아서 내려오도록 구현하는 편입니다.\n",
        "어떤 순서대로 넣는지는 개인 취향이에요. 제가 이렇게 구현하는 이유는 코드를 작성하면서 바로바로\n",
        "떠올리기 편하기 때문입니다.\n",
        "'''\n",
        "dy = [-1, -1, 0, 1, 1, 1, 0, -1]\n",
        "dx = [0, -1, -1, -1, 0, 1, 1, 1]\n",
        "for k in range(8):\n",
        "\ty = i + dy[k]\n",
        "\tx = j + dx[k]\n",
        "```\n",
        "\n",
        "#### **Matrix 범위를 벗어나는 경우를 대비하는 코드**\n",
        "- **이 continue 아랫부분을 모두 실행하지 않고 건너 뜁니다. (다음 k에 대해 for문을 실행합니다)**\n",
        "```python\n",
        "for k in range(8):\n",
        "\ty = i + dy[k]\n",
        "\tx = j + dx[k]\n",
        "\n",
        "\tif y < 0 or y >= N or x < 0 or x >= N:\n",
        "\t\t# 만약 이 조건문에 걸린다면,\n",
        "\t\tcontinue\n",
        "```\n",
        "\n",
        "- 더욱 간결하게 표현한다면 이렇다.\n",
        "- 불가능한 y 값의 tuple을 만들어주어 예외 처리\n",
        "```python\n",
        "if y in (-1, N) or x in (-1, N):\n",
        "\tcontinue\n",
        "```"
      ],
      "metadata": {
        "id": "u3uIvjnif8Xr"
      }
    },
    {
      "cell_type": "markdown",
      "source": [
        "### **문제 해결 idea**\n",
        "CNN의 pooling함수와 같이 matrix를 0으로 둘러서, index가 matrix를 벗어나는 경우에 대비했다."
      ],
      "metadata": {
        "id": "UGi2U7-Hkfk0"
      }
    },
    {
      "cell_type": "code",
      "execution_count": 2,
      "metadata": {
        "id": "VdKhUe9bHJOq",
        "colab": {
          "base_uri": "https://localhost:8080/"
        },
        "outputId": "85800bd9-26c5-4fa8-8b9a-48cffb09bd2c"
      },
      "outputs": [
        {
          "output_type": "stream",
          "name": "stdout",
          "text": [
            "['0', '0', '0', '0', '0', '0', '0', '0', '0', '0']\n"
          ]
        }
      ],
      "source": [
        "# 계산의 용이성을 위해 Matrix 주변을 모두 0으로 만들어주었다.\n",
        "k = '0'*10\n",
        "print(list(k))"
      ]
    },
    {
      "cell_type": "code",
      "source": [
        "N, K = list(map(int,input().split()))\n",
        "\n",
        "matrx = []\n",
        "pls = list('0'*(N+2))\n",
        "matrx.append(pls)\n",
        "for i in range(N):\n",
        "\troww = (input().split())\n",
        "\trealroww = ['0'] + roww + ['0']\n",
        "\tmatrx.append(realroww)\n",
        "matrx.append(pls)]\n",
        "\n",
        "import pandas as pd\n",
        "import numpy as np\n",
        "t = np.array(matrx)\n",
        "t = pd.DataFrame(t)\n",
        "t.describe"
      ],
      "metadata": {
        "colab": {
          "base_uri": "https://localhost:8080/"
        },
        "id": "EgWkrD_SJwSZ",
        "outputId": "c9ccd75d-1b23-4abc-dfaf-4aa51645c820"
      },
      "execution_count": 16,
      "outputs": [
        {
          "output_type": "execute_result",
          "data": {
            "text/plain": [
              "<bound method NDFrame.describe of    0  1  2  3  4  5\n",
              "0  0  0  0  0  0  0\n",
              "1  0  0  0  0  1  0\n",
              "2  0  0  0  0  1  0\n",
              "3  0  0  0  1  0  0\n",
              "4  0  0  1  1  1  0\n",
              "5  0  0  0  0  0  0>"
            ]
          },
          "metadata": {},
          "execution_count": 16
        }
      ]
    },
    {
      "cell_type": "code",
      "source": [
        "# My Code\n",
        "N, K = list(map(int,input().split()))\n",
        "\n",
        "matrx = []\n",
        "pls = list('0'*(N+2))\n",
        "matrx.append(pls)\n",
        "for i in range(N):\n",
        "\troww = (input().split())\n",
        "\trealroww = ['0'] + roww + ['0']\n",
        "\tmatrx.append(realroww)\n",
        "matrx.append(pls)\n",
        "\n",
        "cloudscore = 0\n",
        "\n",
        "for a in range(1, N+1):\n",
        "\tfor b in range(1, N+1):\n",
        "\t\tscr = 0\n",
        "\t\tif matrx[a][b] != '1':\n",
        "\t\t\tif matrx[a-1][b-1] == '1':\n",
        "\t\t\t\tscr += 1\n",
        "\t\t\tif matrx[a-1][b] == '1':\n",
        "\t\t\t\tscr += 1\n",
        "\t\t\tif matrx[a-1][b+1] == '1':\n",
        "\t\t\t\tscr += 1\n",
        "\t\t\tif matrx[a][b-1] == '1':\n",
        "\t\t\t\tscr += 1\n",
        "\t\t\tif matrx[a][b+1] == '1':\n",
        "\t\t\t\tscr += 1\n",
        "\t\t\tif matrx[a+1][b-1] == '1':\n",
        "\t\t\t\tscr += 1\n",
        "\t\t\tif matrx[a+1][b] == '1':\n",
        "\t\t\t\tscr += 1\n",
        "\t\t\tif matrx[a+1][b+1] == '1':\n",
        "\t\t\t\tscr += 1\n",
        "\t\tif scr == K:\n",
        "\t\t\tcloudscore += 1\n",
        "\n",
        "print(cloudscore)"
      ],
      "metadata": {
        "id": "euYJjw9-fUx8"
      },
      "execution_count": null,
      "outputs": []
    },
    {
      "cell_type": "markdown",
      "source": [
        "### **막혔던 점**\n",
        "- if matrx[a][b] != '1':\n",
        "- 구름이 존재하는 칸에 생기는 깃발은 고려하지 않아야 한다는 점을 주의하지 못했다."
      ],
      "metadata": {
        "id": "rrocnnu8fYyM"
      }
    },
    {
      "cell_type": "code",
      "source": [
        "# Answer Code\n",
        "dy = [-1, -1, 0, 1, 1, 1, 0, -1]\n",
        "dx = [0, -1, -1, -1, 0, 1, 1, 1]\n",
        "\n",
        "N, K = map(int, input().split())\n",
        "\n",
        "matrix = []\n",
        "\n",
        "for _ in range(N):\n",
        "\trow = list(input().split())\n",
        "\tmatrix.append(row)\n",
        "\n",
        "result = 0\n",
        "\n",
        "for i in range(N):\n",
        "\tfor j in range(N):\n",
        "\t\tif matrix[i][j] == \"1\":\n",
        "\t\t\tcontinue\n",
        "\n",
        "\t\tcheck = 0\n",
        "\n",
        "\t\tfor k in range(8):\n",
        "\t\t\ty = i + dy[k]\n",
        "\t\t\tx = j + dx[k]\n",
        "\n",
        "\t\t\tif y < 0 or y >= N or x < 0 or x >= N:\n",
        "\t\t\t\tcontinue\n",
        "\n",
        "\t\t\tif matrix[y][x] == \"1\":\n",
        "\t\t\t\tcheck += 1\n",
        "\n",
        "\t\tif check == K:\n",
        "\t\t\tresult += 1\n",
        "\n",
        "print(result)"
      ],
      "metadata": {
        "id": "-9ZYERmJkAkD"
      },
      "execution_count": null,
      "outputs": []
    }
  ]
}