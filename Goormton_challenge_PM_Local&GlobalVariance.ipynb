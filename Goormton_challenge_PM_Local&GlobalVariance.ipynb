{
  "nbformat": 4,
  "nbformat_minor": 0,
  "metadata": {
    "colab": {
      "provenance": []
    },
    "kernelspec": {
      "name": "python3",
      "display_name": "Python 3"
    },
    "language_info": {
      "name": "python"
    }
  },
  "cells": [
    {
      "cell_type": "markdown",
      "source": [
        "**Tip! 코드를 짜기 전에 종이에 코드의 전체적인 구조를 그려보고, 짜면 더 효과적이다.**"
      ],
      "metadata": {
        "id": "RY6bJoDJPXOr"
      }
    },
    {
      "cell_type": "code",
      "source": [
        "# Code\n",
        "function_N = int(input())\n",
        "T,M = map(int,input().split())\n",
        "C = []\n",
        "if function_N >=1 :\n",
        "\tfor i in range(1, function_N+1):\n",
        "\t\tC.append(int(input()))\n",
        "sumlist = sum(C)\n",
        "plus_t = int(sumlist // 60)\n",
        "real_m = int(sumlist % 60)\n",
        "T = T + plus_t\n",
        "M = real_m + M\n",
        "if M >= 60 :\n",
        "\treal_M = M % 60\n",
        "\tpllust = M // 60\n",
        "\tM = real_M\n",
        "\tT = T + pllust\n",
        "\n",
        "if T >= 24:\n",
        "\tT = T % 24\n",
        "\n",
        "print(str(T), str(M))"
      ],
      "metadata": {
        "colab": {
          "base_uri": "https://localhost:8080/"
        },
        "id": "L6OyX3gC-f9G",
        "outputId": "1a479eb0-6f88-4c44-adef-6bad75614b82"
      },
      "execution_count": 5,
      "outputs": [
        {
          "output_type": "stream",
          "name": "stdout",
          "text": [
            "3\n",
            "10 10\n",
            "50\n",
            "33\n",
            "23\n",
            "11 56\n"
          ]
        }
      ]
    },
    {
      "cell_type": "code",
      "execution_count": 3,
      "metadata": {
        "colab": {
          "base_uri": "https://localhost:8080/"
        },
        "id": "4JMJsV28zJEf",
        "outputId": "f0ed7c48-aab2-48b2-f4a2-3b23c1e77ea5"
      },
      "outputs": [
        {
          "output_type": "stream",
          "name": "stdout",
          "text": [
            "9 8\n"
          ]
        }
      ],
      "source": [
        "# 문자열 출력\n",
        "print(str('9'), str('8'))"
      ]
    },
    {
      "cell_type": "markdown",
      "source": [
        "> - str('a') + str('b') => ab\n",
        "- str('a'), str('b') => a b"
      ],
      "metadata": {
        "id": "qfWcmL7H-X-n"
      }
    },
    {
      "cell_type": "markdown",
      "source": [
        "\n",
        "### **Error**\n",
        "```python\n",
        "# 문제점 1\n",
        "if M >= 60:\n",
        "\trealreal_m = M % 60\n",
        "\tplus_TT = M // 60\n",
        "T = plus_TT + T\n",
        "# loval variance가 if 문 밖으로 나가서 활약은 불가\n",
        "```\n",
        "> The variable plus_TT is defined within the scope of the if statement, which means it will only exist and be accessible within that block of code.\n",
        "\n",
        "```python\n",
        "# solution\n",
        "if M >= 60:\n",
        "\trealreal_m = M % 60\n",
        "\tplus_TT = M // 60\n",
        "\tT = plus_TT + T\n",
        "# global variance는 반복문 안에서도 수정 가능\n",
        "```"
      ],
      "metadata": {
        "id": "DQK4eq1gAIlE"
      }
    }
  ]
}