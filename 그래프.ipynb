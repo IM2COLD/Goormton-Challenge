{
  "nbformat": 4,
  "nbformat_minor": 0,
  "metadata": {
    "colab": {
      "provenance": []
    },
    "kernelspec": {
      "name": "python3",
      "display_name": "Python 3"
    },
    "language_info": {
      "name": "python"
    }
  },
  "cells": [
    {
      "cell_type": "markdown",
      "source": [
        "### **그래프**\n",
        "- 정점\n",
        "- 간선\n",
        "- 정점과 간선에 조건들이 추가되어 다양한 상황을 추상화함\n",
        "- ex) 특정 간선이 양방향이 아닌, 한 방향으로만 이동 가능하도록 하거나, 정점을 방문하거나 간선을 이용할 떄 비용을 추가\n",
        "\n",
        "----\n",
        "\n",
        "#### **그래프 구현하기**\n",
        "- 어떤 정점과 어떤 정점이 간선으로 연결되어 있는지를 잘 나타내는 것\n",
        "- modeling한 graph의 연결관계를 나타내는 방법\n",
        "\n",
        "#### **1. 인접 행렬**\n",
        "- 1. N * N 크기의 2차원 배열ㅇ르 선언하고 배열의 초기값은 모두 0으로 설정\n",
        "- 2. a번 정점에서 b번 정점으로 가는 간선이 존재하는 경우 a행 b열에 해당하는 칸을 1로 바꿔준다.\n",
        "\n",
        "- 그래프의 연결 관계를 행렬로 표현하여 이차원 배열로 나타내는 방식\n",
        "\n",
        "> adj[i][j] : 노드에서 i에서 j로 가는 간선이 존재할 경우 1 아니면 0\n",
        "\n",
        "- 만일, 표현하고자 하는 그래프가 방향이 없는 무향 그래프이면 노드 i에서 j로 가는 길이 존재하면 노드 j에서 i로 가는 길 또한 존재 => 대각 성분을 기준으로 대칭인 성질\n",
        "\n",
        "#### **장점**\n",
        "- 구현이 매우 간단\n",
        "#### **단점**\n",
        "- 노드끼리 연결 여부 확인하고 싶을 때, adj[i][j]값이 1인지 0인지만 확인하면 됨 -> 시간 복잡도 : o(N)\n",
        "- 노드의 개수가 간선의 개수보다 많으면 많을수록 탐색을 위해 소요되는 시간이 비효율적으로 증가한다.\n",
        "- ex) 노드는 10000개인데, 간선이 23개라면, i노드와 연결된 노드를 찾기위해서는 ad[i][1] ~ ad[i][10000]까지 확인해야 함\n",
        "\n",
        "\n",
        "\n",
        "```python\n",
        "from sys import stdin\n",
        "\n",
        "node, edge = map(int, stdin.readline().split())\n",
        "adj = [0 for _ in range(node) for _ in range(node)]\n",
        "# adj = [0 for _ in range(node * node)] 이 코드와 같음\n",
        "\n",
        "for _ in range(edge):\n",
        "  src, dest = map(int, stdin.readline().split())\n",
        "  adj[src][dest] = 1\n",
        "  adj[dest][src] = 1\n",
        "```\n",
        "\n"
      ],
      "metadata": {
        "id": "nuji8nfiZWhD"
      }
    },
    {
      "cell_type": "code",
      "execution_count": 4,
      "metadata": {
        "colab": {
          "base_uri": "https://localhost:8080/"
        },
        "id": "zuYawxZbZTjE",
        "outputId": "6b5f68b9-d88e-482b-cf88-02098657f134"
      },
      "outputs": [
        {
          "output_type": "execute_result",
          "data": {
            "text/plain": [
              "[[0, 0, 0, 0], [0, 0, 0, 0], [0, 0, 0, 0]]"
            ]
          },
          "metadata": {},
          "execution_count": 4
        }
      ],
      "source": [
        "adj = [[0 for _ in range(4)] for _ in range(3)]\n",
        "adj"
      ]
    },
    {
      "cell_type": "markdown",
      "source": [
        "#### **2. 인접 리스트**\n",
        "- 인접 행렬의 단점을 해결하고자 하는 관점에서 착안된 방법\n",
        "- **각각의 노드에 연결된 노드만을 원소로 갖는 리스트들의 배열을 의미**\n",
        "\n",
        "> adj[i] : i번째 노드에 연결된 노드들을 원소로 갖는 리스트\n",
        "\n",
        "- 무향 그래프의 경우 : 본인 노드 인덱스의 리스트 내에 서로를 원소로 가지게 된다.\n",
        "\n",
        "#### **장점**\n",
        "- 실제로 연결된 노드에 대한 정보만 저장하기 때문에, 모든 벡터들의 원소의 개수의 합이 간선의 개수와 동일하다.\n",
        "- 즉, 간선의 개수에 비례하는 메모리만 차지하여 구현이 가능\n",
        "\n",
        "#### **단점**\n",
        "- 만약 노드 i와 j의 연결 여부를 알고 싶다면, adj[i]의 리스트를 순회하며 j 원소가 존재하는지 확인해야 한다.\n",
        "- 이러한 경우 o(N)의 시간 복잡도를 갖게 된다. 인접 행렬은 adj[i][j]가 1인지 0인지만 확인하면 i와 v 노드의 연결 여부를 O(1) 시간 복잡도를 통해 확인이 가능했었다.\n",
        "\n",
        "```python\n",
        "from sys import stdin\n",
        "node, dege = map(int, stdin.readline().split())\n",
        "adj = [ [] for _ in rage(node)]\n",
        "\n",
        "for _ in range(edge):\n",
        "  src, dest = map(int, stdin.readline().split())\n",
        "  adj[src].append(dest)\n",
        "  adj[dest].append(src)\n",
        "```\n",
        "\n"
      ],
      "metadata": {
        "id": "0r-yCU6EmgVz"
      }
    }
  ]
}