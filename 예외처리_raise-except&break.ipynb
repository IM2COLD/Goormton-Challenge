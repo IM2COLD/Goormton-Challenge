{
  "nbformat": 4,
  "nbformat_minor": 0,
  "metadata": {
    "colab": {
      "provenance": []
    },
    "kernelspec": {
      "name": "python3",
      "display_name": "Python 3"
    },
    "language_info": {
      "name": "python"
    }
  },
  "cells": [
    {
      "cell_type": "markdown",
      "source": [
        "### **예외 발생시키기**\n",
        "- raise 예외('에러메시지')\n",
        "- raise => 다음 exception으로 넘어감"
      ],
      "metadata": {
        "id": "rJ1vStezalqH"
      }
    },
    {
      "cell_type": "code",
      "source": [
        "# 이름이 입력이 안 되었을 경우 : 오류 출력\n",
        "# 아예 상관없는 오류를 발생시킬 수도 있다.\n",
        "def putName():\n",
        "    name=input('이름을 입력해주세요: ')\n",
        "    if len(name)<1:\n",
        "        raise ZeroDivisionError\n",
        "    print(name)"
      ],
      "metadata": {
        "id": "YP1qN9ROkYt5"
      },
      "execution_count": null,
      "outputs": []
    },
    {
      "cell_type": "markdown",
      "source": [
        "### **예외 만들기**\n",
        "- 오류를 클래스형태로 만들어준다.\n",
        "- **클래스를 만들어 줄 때, Exception을 상속받는다면 오류형태의 클래스를 만들 수 있다.**\n",
        "> 클래스가 받아온 매개변수를 __init__을 통해 메세지 변수로 초기화 해주고, 이 메세지를 __str__을 통해서 리턴값으로 돌려주자."
      ],
      "metadata": {
        "id": "_CDDpxrhkugG"
      }
    },
    {
      "cell_type": "code",
      "source": [
        "class NameLenError(Exception):\n",
        "    def __init__(self,msg):\n",
        "        self.msg=msg\n",
        "    def __str__(self):\n",
        "        return self.msg\n",
        "\n",
        "def putName():\n",
        "    name=input('이름을 입력해주세요: ')\n",
        "    if len(name)<1:\n",
        "        raise NameLenError(\"이름을 입력하고 확인을 눌러주세요.\")\n",
        "    print(name)\n",
        "\n",
        "try:\n",
        "    putName()\n",
        "except NameLenError as NLE:\n",
        "    print('오류발생!', NLE)"
      ],
      "metadata": {
        "colab": {
          "base_uri": "https://localhost:8080/"
        },
        "id": "9HV1QXRjllM3",
        "outputId": "3ce44ee6-fc6f-4f0b-ac53-6aa3a68714b7"
      },
      "execution_count": null,
      "outputs": [
        {
          "output_type": "stream",
          "name": "stdout",
          "text": [
            "이름을 입력해주세요: 찬\n",
            "찬\n"
          ]
        }
      ]
    },
    {
      "cell_type": "markdown",
      "source": [
        "- putName에서 raise에 이번에는 우리가 만든 오류를 넣어주자.\n",
        "\n",
        "- 마지막으로 try-except로 실제로 오류가 검출되는지 확인해보자! 마지막 except문에 as NLE를 붙여서 __str__에서 문자열 형태로 저장된 메세지를 NLE라는 변수로 받아 출력할 수 있도록 했다."
      ],
      "metadata": {
        "id": "wWUHiy-xlYKO"
      }
    },
    {
      "cell_type": "code",
      "source": [
        "try:\n",
        "    x = int(input('3의 배수를 입력하세요: '))\n",
        "    if x % 3 != 0:                                 # x가 3의 배수가 아니면\n",
        "        raise Exception('3의 배수가 아닙니다.')    # 예외를 발생시킴\n",
        "    print(x)\n",
        "except Exception as e:                             # 예외가 발생했을 때 실행됨\n",
        "    print('예외가 발생했습니다.', e)"
      ],
      "metadata": {
        "colab": {
          "base_uri": "https://localhost:8080/"
        },
        "id": "WwRd4c3bmcX8",
        "outputId": "c56276b2-0e07-4bd9-baa2-befec76805b3"
      },
      "execution_count": null,
      "outputs": [
        {
          "output_type": "stream",
          "name": "stdout",
          "text": [
            "3의 배수를 입력하세요: 5\n",
            "예외가 발생했습니다. 3의 배수가 아닙니다.\n"
          ]
        }
      ]
    },
    {
      "cell_type": "code",
      "source": [
        "# 함수 내부에 try except가 없는 경우\n",
        "def three_multiple():\n",
        "    x = int(input('3의 배수를 입력하세요: '))\n",
        "    if x % 3 != 0:                                 # x가 3의 배수가 아니면\n",
        "        raise Exception('3의 배수가 아닙니다.')    # 예외를 발생시킴\n",
        "    print(x)                                       # 현재 함수 안에는 except가 없으므로\n",
        "                                                   # 예외를 상위 코드 블록으로 넘김\n",
        "\n",
        "try:\n",
        "    three_multiple()\n",
        "except Exception as e:                             # 하위 코드 블록에서 예외가 발생해도 실행됨\n",
        "    print('예외가 발생했습니다.', e)"
      ],
      "metadata": {
        "id": "lssfWV3_nNkk"
      },
      "execution_count": null,
      "outputs": []
    },
    {
      "cell_type": "markdown",
      "source": [
        "- three_multiple 함수는 안에 try except가 없는 상태에서 raise로 예외를 발생시켰습니다. 이렇게 되면 함수 바깥에 있는 except에서 예외가 처리됩니다. 즉, 예외가 발생하더라도 현재 코드 블록에서 처리해줄 except가 없다면 except가 나올 때까지 계속 상위 코드 블록으로 올라갑니다.\n",
        "\n",
        "- 만약 함수 바깥에도 처리해줄 except가 없다면 코드 실행은 중지되고 에러가 표시됩니다. 다음은 파이썬 셸에서 직접 three_multiple 함수를 호출했으므로 except가 없는 상태입니다."
      ],
      "metadata": {
        "id": "PjcU-7sJnZRT"
      }
    },
    {
      "cell_type": "markdown",
      "source": [
        "#### **현재 예외를 다시 발생시키기**"
      ],
      "metadata": {
        "id": "GP3vPPYQxUrb"
      }
    },
    {
      "cell_type": "code",
      "source": [
        "def three_multiple():\n",
        "    try:\n",
        "        x = int(input('3의 배수를 입력하세요: '))\n",
        "        if x % 3 != 0:                                 # x가 3의 배수가 아니면\n",
        "            raise Exception('3의 배수가 아닙니다.')    # 예외를 발생시킴\n",
        "        print(x)\n",
        "    except Exception as e:                             # 함수 안에서 예외를 처리함\n",
        "        print('three_multiple 함수에서 예외가 발생했습니다.', e)\n",
        "        raise    # raise로 현재 예외를 다시 발생시켜서 상위 코드 블록으로 넘김\n",
        "\n",
        "try:\n",
        "    three_multiple()\n",
        "except Exception as e:                                 # 하위 코드 블록에서 예외가 발생해도 실행됨\n",
        "    print('스크립트 파일에서 예외가 발생했습니다.', e)"
      ],
      "metadata": {
        "colab": {
          "base_uri": "https://localhost:8080/"
        },
        "id": "9zwQkEUGo20p",
        "outputId": "7b0607e6-d128-414c-eac7-cc2993f0d5c9"
      },
      "execution_count": null,
      "outputs": [
        {
          "output_type": "stream",
          "name": "stdout",
          "text": [
            "3의 배수를 입력하세요: 5\n",
            "three_multiple 함수에서 예외가 발생했습니다. 3의 배수가 아닙니다.\n",
            "스크립트 파일에서 예외가 발생했습니다. 3의 배수가 아닙니다.\n"
          ]
        }
      ]
    },
    {
      "cell_type": "markdown",
      "source": [
        "- three_multiple 함수 안에서 발생한 예외를 함수 안의 except에서 한 번 처리하고, raise로 예외를 다시 발생시켜서 상위 코드 블록으로 넘겼습니다. 그다음에 함수 바깥의 except에서 예외를 처리했습니다. 이런 방식으로 같은 예외를 계속 처리해줄 수 있습니다."
      ],
      "metadata": {
        "id": "uWZTXcmwxcDD"
      }
    },
    {
      "cell_type": "code",
      "source": [
        "# raise에 다른 예외를 지정하고 에러 메시지를 넣을 수도 있습니다.\n",
        "def three_multiple():\n",
        "    try:\n",
        "        x = int(input('3의 배수를 입력하세요: '))\n",
        "        if x % 3 != 0:\n",
        "            raise Exception('3의 배수가 아닙니다.')\n",
        "        print(x)\n",
        "    except Exception as e:\n",
        "        print('three_multiple 함수에서 예외가 발생했습니다.', e)\n",
        "        raise RuntimeError('three_multiple 함수에서 예외가 발생했습니다.')\n",
        "\n",
        "try:\n",
        "    three_multiple()\n",
        "except Exception as e:                                 # 하위 코드 블록에서 예외가 발생해도 실행됨\n",
        "    print('스크립트 파일에서 예외가 발생했습니다.', e)"
      ],
      "metadata": {
        "id": "Xz5XzFzfo0Vy"
      },
      "execution_count": null,
      "outputs": []
    },
    {
      "cell_type": "markdown",
      "source": [
        "### **예외 처리**\n",
        "- break : 반복문을 벗어나지만 이후의 코드는 실행됨\n",
        "\n"
      ],
      "metadata": {
        "id": "UxJUV4XkJBUb"
      }
    },
    {
      "cell_type": "code",
      "source": [
        "# try except문\n",
        "try:\n",
        "    x = int(input('나눌 숫자를 입력하세요: '))\n",
        "    y = 10 / x\n",
        "    print(y)\n",
        "\n",
        "except:    # 예외가 발생했을 때 실행됨\n",
        "    print('예외가 발생했습니다.')\n",
        "    # 예외가 발생하면 해당 줄에서 코드 실행을 중단하고 바로 except로 가서 코드를 실행한다.\n",
        "    # 즉, try의 y = 10 / x를 비롯하여 그 아래줄에 있는 print(y)도 실행되지 않는다."
      ],
      "metadata": {
        "id": "fD0GAXKXXHnD"
      },
      "execution_count": null,
      "outputs": []
    },
    {
      "cell_type": "code",
      "source": [
        "# 특정 예외만 처리하기\n",
        "try:\n",
        "  실행할 코드\n",
        "except 예외이름:\n",
        "  예외(이름을 지정한 error)가 발생했을 때 처리하는 코드\n",
        "\n",
        "# ex\n",
        "y = [10, 20, 30]\n",
        "\n",
        "try:\n",
        "  index, x = map(int, input('인덱스와 나눌 숫자를 입력하세요: ').split())\n",
        "  print(y[index] / x)\n",
        "except ZeroDivisionError:    # 숫자를 0으로 나눠서 에러가 발생했을 때 실행됨\n",
        "  print('숫자를 0으로 나눌 수 없습니다.')\n",
        "except IndexError:           # 범위를 벗어난 인덱스에 접근하여 에러가 발생했을 때 실행됨\n",
        "  print('잘못된 인덱스입니다.')"
      ],
      "metadata": {
        "id": "QXnm1-sfXWk8"
      },
      "execution_count": null,
      "outputs": []
    },
    {
      "cell_type": "code",
      "source": [
        "# 예외의 error 메시지 받아오기\n",
        "except ZeroDivisionError as e:      # as 뒤에 변수를 지정하면 에러를 받아옴\n",
        "   print('숫자를 0으로 나눌 수 없습니다.', e)    # e에 저장된 에러 메시지 출력"
      ],
      "metadata": {
        "id": "MQgm58reX7sS"
      },
      "execution_count": null,
      "outputs": []
    },
    {
      "cell_type": "code",
      "source": [
        "# except - else - finally\n",
        "try:\n",
        "   실행할 코드\n",
        "except:\n",
        "   예외가 발생했을 때 처리하는 코드\n",
        "else:\n",
        "   예외가 발생하지 않았을 때 실행할 코드\n",
        "finally:\n",
        "   예외 발생 여부와 상관없이 항상 실행할 코드"
      ],
      "metadata": {
        "id": "G-w_ffmHae9f"
      },
      "execution_count": null,
      "outputs": []
    },
    {
      "cell_type": "markdown",
      "source": [
        "- **XOR 연산**\n",
        "\n",
        "- XOR(배타적 OR, exclusive OR)이라는 연산(^)도 있습니다. 두 값이 모두 1이거나 모두 0이면 결과가 0이고, 두 값 중 하나는 1이고 다른 하나가 0이면 결과가 1이 됩니다."
      ],
      "metadata": {
        "id": "RrTl5UO6Lcq8"
      }
    },
    {
      "cell_type": "code",
      "source": [
        ">>> bin(0b1 ^ 0b1)\n",
        "'0b0'\n",
        ">>> bin(0b1 ^ 0b0)\n",
        "'0b1'\n",
        ">>> bin(0b0 ^ 0b1)\n",
        "'0b1'\n",
        ">>> bin(0b0 ^ 0b0)\n",
        "'0b0'"
      ],
      "metadata": {
        "id": "I8PWtyhFLeLf"
      },
      "execution_count": null,
      "outputs": []
    },
    {
      "cell_type": "markdown",
      "source": [
        "- 네 자리 이진수의 비트 연산\n",
        "\n",
        "- 한 자리의 비트 연산자를 이해했으면 네 자리 이진수로 비트 연산을 해 보겠습니다. 우선 & 연산입니다."
      ],
      "metadata": {
        "id": "MBO7l0QjNJ-r"
      }
    },
    {
      "cell_type": "code",
      "source": [
        ">>> bin(0b1111 & 0b1100)\n",
        "'0b1100'\n",
        ">>> bin(0b1010 & 0b1100)\n",
        "'0b1000'"
      ],
      "metadata": {
        "id": "59aMljfbNLf5"
      },
      "execution_count": null,
      "outputs": []
    },
    {
      "cell_type": "markdown",
      "source": [
        "- **십진수의 비트 연산**\n",
        "\n",
        "- 그런데 비트 연산을 이진수에만 할 수 있는 것은 아니랍니다. 앞에서 이진수로 했던 계산을 십진수로 다시 해봐도 결과가 같은 것을 볼 수 있습니다."
      ],
      "metadata": {
        "id": "czdsoIcHNjcr"
      }
    },
    {
      "cell_type": "code",
      "source": [
        ">>> 0b1111\n",
        "15\n",
        ">>> 0b1100\n",
        "12\n",
        ">>>\n",
        ">>> 15 & 12\n",
        "12\n",
        ">>> bin(12)\n",
        "'0b1100'"
      ],
      "metadata": {
        "id": "ESpfuE0eNoJE"
      },
      "execution_count": null,
      "outputs": []
    },
    {
      "cell_type": "markdown",
      "source": [
        "**=> 겉으로 보기에 이진수로 나타내든 십진수로 나타내든, 컴퓨터는 이진수를 가지고 계산하고 있다.**"
      ],
      "metadata": {
        "id": "nEy3yRILNsVj"
      }
    },
    {
      "cell_type": "markdown",
      "source": [
        "[예외 발생시키기](https://dojang.io/mod/page/view.php?id=2400)"
      ],
      "metadata": {
        "id": "24BY1vIPnrBl"
      }
    },
    {
      "cell_type": "code",
      "source": [
        "if x % 3 != 0:\n",
        "            raise Exception('3의 배수가 아닙니다.')\n",
        "        print(x)\n",
        "    except Exception as e:\n",
        "        print('three_multiple 함수에서 예외가 발생했습니다.', e)\n",
        "        raise RuntimeError('three_multiple 함수에서 예외가 발생했습니다.')"
      ],
      "metadata": {
        "id": "QpVf_U6Mobpn"
      },
      "execution_count": null,
      "outputs": []
    }
  ]
}
