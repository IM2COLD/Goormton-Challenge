{
  "nbformat": 4,
  "nbformat_minor": 0,
  "metadata": {
    "colab": {
      "provenance": []
    },
    "kernelspec": {
      "name": "python3",
      "display_name": "Python 3"
    },
    "language_info": {
      "name": "python"
    }
  },
  "cells": [
    {
      "cell_type": "code",
      "source": [
        "# My Code\n",
        "from collections import deque\n",
        "sizeN, delK, writeQ = map(int,input().split())\n",
        "mapp = [list(input()) for _ in range(sizeN)]\n",
        "\n",
        "dy = [-1, 1, 0, 0]\n",
        "dx = [0, 0, 1, -1]\n",
        "\n",
        "for _ in range(writeQ):\n",
        "\tyidx, xidx, alpha = input().split()\n",
        "\tyidx = int(yidx)\n",
        "\txidx = int(xidx)\n",
        "\tchangey = yidx - 1\n",
        "\tchangex = xidx - 1\n",
        "\tmapp[changey][changex] = alpha\n",
        "\tcount = 0\n",
        "\tdelidxset = set()\n",
        "\tdelidxset.add((changey, changex))\n",
        "\t# set에 tuple로 원소 추가\n",
        "\tq = deque()\n",
        "\tq.append([changey,changex])\n",
        "\n",
        "\twhile q:\n",
        "\t\tnow = q.popleft()\n",
        "\t\tchangey, changex = now\n",
        "\t\tcount += 1\n",
        "\t\tfor i in range(4):\n",
        "\t\t\tyyy = changey + dy[i]\n",
        "\t\t\txxx = changex + dx[i]\n",
        "\t\t\tif 0 <= yyy < sizeN and 0 <= xxx < sizeN and mapp[yyy][xxx] == alpha and (yyy,xxx) not in delidxset:\n",
        "\t\t\t\tq.append([yyy,xxx])\n",
        "\t\t\t\tdelidxset.add((yyy,xxx))\n",
        "\n",
        "\tif count >= delK :\n",
        "\t\tfor i in delidxset:\n",
        "\t\t\ty = i[0]\n",
        "\t\t\tx = i[1]\n",
        "\t\t\tmapp[y][x] =\t'.'\n",
        "\n",
        "for r in mapp:\n",
        "\tprint(''.join(r))"
      ],
      "metadata": {
        "id": "MFK4kz4SzqGp"
      },
      "execution_count": 2,
      "outputs": []
    },
    {
      "cell_type": "markdown",
      "source": [
        "### 오류 원인\n",
        "```python\n",
        "(yyy,xxx) not in delidxset:\n",
        "```\n",
        "- 이미 방문한 y, x는 추가했으면 안되는데, 다음 q는 이전의 q의 옆에 존재해서 추가된 값인데, 이를 고려하지 않아서 무한 루프가 돌았다."
      ],
      "metadata": {
        "id": "4XH4UdhZ6FNZ"
      }
    },
    {
      "cell_type": "code",
      "source": [
        "# Answer Code\n",
        "def f(i, j, c):\n",
        "\tarr[i][j] = c\n",
        "\tstack = [(i, j)]\n",
        "\tvisited = set()\n",
        "\n",
        "\twhile stack:\n",
        "\t\ty, x = stack.pop()\n",
        "\n",
        "\t\tif (y, x) in visited:\n",
        "\t\t\tcontinue\n",
        "\n",
        "\t\tvisited.add((y, x))\n",
        "\n",
        "\t\tfor k in range(4):\n",
        "\t\t\tny, nx = y + dy[k], x + dx[k]\n",
        "\n",
        "\t\t\tif ny in (-1, N) or nx in (-1, N) or arr[ny][nx] != arr[y][x]:\n",
        "\t\t\t\tcontinue\n",
        "\n",
        "\t\t\tstack.append((ny, nx))\n",
        "\n",
        "\tif len(visited) >= K:\n",
        "\t\tfor y, x in visited:\n",
        "\t\t\tarr[y][x] = \".\"\n",
        "\n",
        "dy = [-1, 1, 0, 0]\n",
        "dx = [0, 0, -1, 1]\n",
        "\n",
        "N, K, Q = map(int, input().split())\n",
        "arr = [list(input()) for _ in range(N)]\n",
        "\n",
        "for _ in range(Q):\n",
        "\ti, j, c = input().split()\n",
        "\tf(int(i) - 1, int(j) - 1, c)\n",
        "\n",
        "for i in arr:\n",
        "\tprint(''.join(i))"
      ],
      "metadata": {
        "id": "0viiuNyO1NHK"
      },
      "execution_count": null,
      "outputs": []
    },
    {
      "cell_type": "markdown",
      "source": [
        "### **Key Point**\n",
        "- 연결 요소를 찾을 때 단순히 탐색만 하는 것이 아니라, 포함되는 위치(방문한 위치 or 삭제할 위치)를 기록해두어야 한다. 만약 연결 요소가 K개 이상이라면 연결 요소에 해당되는 칸을 모두 .으로 변경해야 하기 떄문이다."
      ],
      "metadata": {
        "id": "xD2Aq2Fa11HK"
      }
    },
    {
      "cell_type": "markdown",
      "source": [
        "### List를 Str으로 <-> Str을 List로\n",
        "\n",
        "1. String -> List 변환 : list 함수\n",
        "```python\n",
        "text = \"string\"\n",
        "list1 = list(text)\n",
        ">>> ['s', 't', 'r', 'i', 'n', 'g']\n",
        "```\n",
        "2. List -> String 변환 : join 함수\n",
        "```python\n",
        "str3 = \"\".join(list1)\n",
        "str5 = \",\".join(list1)\n",
        ">>> string\n",
        ">>> s,t,r,i,n,g\n",
        "```\n",
        "\n"
      ],
      "metadata": {
        "id": "ELrIkZtak5GT"
      }
    },
    {
      "cell_type": "code",
      "source": [
        "# arr에 포함된 값, 그러니까 행렬의 각 줄에 대해\n",
        "for i in arr:\n",
        "\t'''\n",
        "\ti는 ['A', '.', 'B'] 와 같은 꼴이겠죠.\n",
        "\tjoin함수를 사용하면 이를 하나의 문자열로 만들어 반환해줍니다.\n",
        "\t'각 문자 사이에 끼워넣을 문자열'.join(반복 가능한 \"문자열만 포함된\" 자료형) 과 같이 사용해요.\n",
        "\t배열을 공백없이 합쳐야하므로 위해 행렬의 각 줄 i를 다음과 같이 처리해서 출력할게요.\n",
        "\t'''\n",
        "\tprint(''.join(i))"
      ],
      "metadata": {
        "id": "FCTSDplS4s3t"
      },
      "execution_count": null,
      "outputs": []
    }
  ]
}