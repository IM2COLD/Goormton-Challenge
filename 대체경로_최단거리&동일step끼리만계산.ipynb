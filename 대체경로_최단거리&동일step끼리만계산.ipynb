{
  "cells": [
    {
      "cell_type": "code",
      "execution_count": 7,
      "metadata": {
        "colab": {
          "base_uri": "https://localhost:8080/"
        },
        "id": "I5gPBugFyq-9",
        "outputId": "107052f8-7a15-4a51-e97d-b6c3cead987a"
      },
      "outputs": [
        {
          "output_type": "stream",
          "name": "stdout",
          "text": [
            "4 4 3 1\n",
            "4 1\n",
            "4 3\n",
            "3 2\n",
            "2 1\n",
            "-1\n",
            "3\n",
            "-1\n",
            "3\n"
          ]
        }
      ],
      "source": [
        "# My Code\n",
        "from collections import deque\n",
        "\n",
        "city, way, st, end = map(int, input().split())\n",
        "waylst = [[] for _ in range(city+1)]\n",
        "for _ in range(way):\n",
        "\ta,b = map(int, input().split())\n",
        "\twaylst[a].append(b)\n",
        "\twaylst[b].append(a)\n",
        "\n",
        "def bfs(st, end, waylst):\n",
        "\tq = deque([st])\n",
        "\tvisit = [0] *(city+1)\n",
        "\trstt = 1\n",
        "\tvisit[st] = 1\n",
        "\n",
        "\twhile True:\n",
        "\t\tif len(q) == 0:\n",
        "\t\t\trstt = -1\n",
        "\t\t\treturn -1\n",
        "\t\t\tbreak\n",
        "\t\telse:\n",
        "\t\t\trstt += 1\n",
        "\t\t\tfor _ in range(len(q)):\n",
        "\t\t\t\tnow = q.popleft()\n",
        "\t\t\t\tfor nextt in waylst[now]:\n",
        "\t\t\t\t\tif nextt == end:\n",
        "\t\t\t\t\t\treturn rstt\n",
        "\t\t\t\t\t\tbreak\n",
        "\n",
        "\t\t\t\t\telif visit[nextt] == 0:\n",
        "\t\t\t\t\t\tq.append(nextt)\n",
        "\t\t\t\t\t\tvisit[nextt] = 1\n",
        "\n",
        "for i in range(1,city+1):\n",
        "\tif i in (st,end):\n",
        "\t\tprint(-1, end = '\\n')\n",
        "\n",
        "\telse:\n",
        "\t\tremove = waylst[:]\n",
        "\t\tremove[i] = []\n",
        "\t\tresult = bfs(st, end, remove)\n",
        "\t\tprint(result, end = '\\n')"
      ]
    },
    {
      "cell_type": "code",
      "execution_count": null,
      "metadata": {
        "id": "VtG_V7UpLQjN"
      },
      "outputs": [],
      "source": [
        "# Answer Code\n",
        "from collections import deque\n",
        "\n",
        "city, way, st, end = map(int, input().split())\n",
        "waylst = [[] for _ in range(city+1)]\n",
        "for _ in range(way):\n",
        "\ta,b = map(int, input().split())\n",
        "\twaylst[a].append(b)\n",
        "\twaylst[b].append(a)\n",
        "\n",
        "def bfs(st, end, waylst):\n",
        "\tq = deque([st])\n",
        "\tvisit = [[0] for _ in range(city+1)]\n",
        "\trstt = 0\n",
        "\tvisit[st] = 1\n",
        "\n",
        "\twhile q:\n",
        "\t\trstt += 1\n",
        "\t\tfor j in range(len(q)):\n",
        "\t\t\tnow = q.popleft()\n",
        "\t\t\tfor nextt in waylst[now]:\n",
        "\t\t\t\tif nextt == end:\n",
        "\t\t\t\t\trstt += 1\n",
        "\t\t\t\t\tbreak\n",
        "\n",
        "\t\t\t\telif visit[nextt] != 0:\n",
        "\t\t\t\t\tq.append(nextt)\n",
        "\t\t\t\t\tvisit[nextt] = 1\n",
        "\n",
        "\tif len(q) == 0:\n",
        "\t\treturn -1\n",
        "\treturn rstt\n",
        "\n",
        "for i in range(1,city+1):\n",
        "\tif i in (st,end):\n",
        "\t\tprint(-1, end = '\\n')\n",
        "\n",
        "\telse:\n",
        "\t\tremove = waylst[:]\n",
        "\t\tremove[i] = []\n",
        "\t\tresult = bfs(st, end, remove)\n",
        "\t\tprint(result, end = '\\n')"
      ]
    },
    {
      "cell_type": "code",
      "source": [
        "# 해설\n",
        "from collections import deque\n",
        "\n",
        "def bfs(start, off):\n",
        "\tif start == off:\n",
        "\t\treturn -1\n",
        "\n",
        "\tvisited = [0] * (N + 1)\n",
        "\tq = deque([start])\n",
        "\tvisited[start] = 1\n",
        "\tstep = 1\n",
        "\n",
        "\twhile q:\n",
        "\t\tstep += 1\n",
        "\t\tfor _ in range(len(q)):\n",
        "\t\t\tnow = q.popleft()\n",
        "\n",
        "\t\t\tfor to in graph[now]:\n",
        "\t\t\t\tif visited[to] or to == off:\n",
        "\t\t\t\t\tcontinue\n",
        "\n",
        "\t\t\t\tif to == E:\n",
        "\t\t\t\t\treturn step\n",
        "\n",
        "\t\t\t\tvisited[to] = 1\n",
        "\t\t\t\tq.append(to)\n",
        "\n",
        "\treturn -1\n",
        "\n",
        "N, M, S, E = map(int, input().split())\n",
        "graph = [[] for _ in range(N + 1)]\n",
        "\n",
        "for _ in range(M):\n",
        "\tu, v = map(int, input().split())\n",
        "\tgraph[u].append(v)\n",
        "\tgraph[v].append(u)\n",
        "\n",
        "for i in range(1, N + 1):\n",
        "\tprint(bfs(S, i))"
      ],
      "metadata": {
        "id": "_iWJbr7es0sZ"
      },
      "execution_count": null,
      "outputs": []
    },
    {
      "cell_type": "markdown",
      "metadata": {
        "id": "I_koArf2FYqu"
      },
      "source": [
        "### Key Point\n",
        "- 현재 큐에 들어있는 노드들만큼만 반복문을 실행하고 있다.\n",
        "- 한 번의 step에서 q에 추가된 도시끼리 묶어서 계산을 실시해서, 동일 step에서 end 도시가 나왔다면 그것이 최소 이동거리일 것이라는 idea\n",
        "\n",
        "```python\n",
        "for _ in range(len(q)):\n",
        "    now = q.popleft()\n",
        "```\n",
        "- BFS는 각 단계에서 현재 위치에서 갈 수 있는 모든 경우를 고려합니다. 만약 큐에 현재 위치와 동시에 큐에 들어온 다른 위치들이 있다면, 이는 동일한 단계에서 갈 수 있는 여러 경우가 있음을 의미합니다. 그리고 BFS는 각 단계에서 이동 가능한 모든 경우를 고려하기 때문에 이러한 경우들을 모두 탐색합니다.\n",
        "\n",
        "- 따라서 for _ in range(len(q)) 부분은 현재 큐에 있는 노드들만큼만 반복하여 그 다음 단계에서 갈 수 있는 모든 경우를 고려하고자 하는 것입니다. 큐에서 노드를 하나씩 빼내면서 그 노드에 인접한 노드들을 큐에 추가하게 되는데, 이때 이미 큐에 들어간 노드는 또 다시 큐에 들어가지 않도록 방지하는 역할을 합니다.\n",
        "\n",
        "- 이 과정을 반복함으로써 BFS는 각 단계에서 갈 수 있는 모든 경우를 고려하게 되어 최단 경로를 찾을 수 있습니다.\n",
        "\n",
        "- **종종 큐에 들어있는 노드의 개수가 계속해서 변하면서 BFS를 진행해야 하는 경우가 있습니다. 이런 상황에서는 for _ in range(len(q)) 부분이 큐에 있는 현재 단계의 모든 노드를 처리하는데 도움을 줍니다.**\n",
        "\n",
        "\n",
        "\n",
        "\n",
        "\n",
        "\n",
        "\n"
      ]
    },
    {
      "cell_type": "code",
      "source": [
        "a = [[1,2],[4,6,7]]\n",
        "b = a[:]\n",
        "b"
      ],
      "metadata": {
        "colab": {
          "base_uri": "https://localhost:8080/"
        },
        "id": "IkZrklAUmJS8",
        "outputId": "a8c38371-77a6-43c6-a14e-2e58a9462ab7"
      },
      "execution_count": 4,
      "outputs": [
        {
          "output_type": "execute_result",
          "data": {
            "text/plain": [
              "[[1, 2], [4, 6, 7]]"
            ]
          },
          "metadata": {},
          "execution_count": 4
        }
      ]
    }
  ],
  "metadata": {
    "colab": {
      "provenance": []
    },
    "kernelspec": {
      "display_name": "Python 3",
      "name": "python3"
    },
    "language_info": {
      "name": "python"
    }
  },
  "nbformat": 4,
  "nbformat_minor": 0
}