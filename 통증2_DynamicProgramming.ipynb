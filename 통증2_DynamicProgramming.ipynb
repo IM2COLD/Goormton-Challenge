{
  "nbformat": 4,
  "nbformat_minor": 0,
  "metadata": {
    "colab": {
      "provenance": []
    },
    "kernelspec": {
      "name": "python3",
      "display_name": "Python 3"
    },
    "language_info": {
      "name": "python"
    }
  },
  "cells": [
    {
      "cell_type": "markdown",
      "source": [
        "> **경우의 수**\n",
        "1. b로 나누어질때\n",
        "2. b로 나누어지지 않는데\n",
        "\t- a로는 나눌 수 있을 때\n",
        "\t- 나머지도 a로 안 나누어질 때\n",
        "\n"
      ],
      "metadata": {
        "id": "Pn1NR4lbZ7dT"
      }
    },
    {
      "cell_type": "code",
      "source": [
        "# My Code\n",
        "N = int(input())\n",
        "A, B = map(int, input().split())\n",
        "maxk = N // B\n",
        "numlist = list(range(maxk+1))\n",
        "numlist = numlist[::-1]\n",
        "\n",
        "fir = 0\n",
        "sec = 0\n",
        "\n",
        "if (N % B != 0):\n",
        "\tfor i in numlist:\n",
        "\t\tif (N - (i*B)) % A == 0:\n",
        "\t\t\tsec = (N - (i*B)) // A\n",
        "\t\t\tfir = i\n",
        "\t\t\tprint(fir+sec)\n",
        "\t\t\tbreak\n",
        "\tif sec == 0:\n",
        "\t\tprint(-1)\n",
        "\n",
        "elif (N % B == 0):\n",
        "\tfir = N //B\n",
        "\tprint(fir)"
      ],
      "metadata": {
        "id": "fzYsMwQkZ59l"
      },
      "execution_count": null,
      "outputs": []
    },
    {
      "cell_type": "markdown",
      "source": [
        "- 이전의 통증 문제는 통증 수치를 감소시켜주는 아이템이 총 3종류가 있고 해당 아이템들간의 배수관계가 있어, greedy 알고리즘으로 해결 가능했지만, 이번 문제는 배수 관계를 이루지 않아, greedy algorythm을 사용하면 문제를 해결할 수 없다.\n",
        "\n",
        "- greedy algorithm을 사용하면 예외 상황이 생긴다.\n",
        "\n",
        "### **다이나믹 프로그래밍 = 동적 계획법**\n",
        "- 이전에 구했던 답을 재활용하는 방식\n",
        "- ex) 피보나치 수열\n",
        "in 피보나치 : 처음 2개 값이 0,1 -> 다음 값은 맨 끝의 두 값을 더해서 만든다.\n",
        "```python\n",
        "def fibo(N):\n",
        "\t# 첫 두값을 종단점으로 잡아줍니다.\n",
        "\tif N == 0:\n",
        "\t\treturn 0\n",
        "\tif N == 1:\n",
        "\t\treturn 1\n",
        "\t# N 번째 피보나치수는 N - 1번째, N - 2번째 피보나치수의 합이므로 재귀로 호출합니다.\n",
        "\treturn fibo(N - 1) + fibo(N - 2)\n",
        "print(fibo(8)) # 21\n",
        "```\n",
        "- 위의 함수는 재귀 함수로 한 번의 코드 실행 시, 입력값이 커지면 실행시간이 너무 오래 걸린다.\n",
        "\n",
        "> Solution\n",
        "\n",
        "```python\n",
        "N = 40\n",
        "# 0번째 값이 0, 1번째 값이 1입니다. N에 대해 구하기 위해서는 N + 1칸의 배열을 선언해야합니다.\n",
        "fibo = [0] * (N + 1)\n",
        "# 1번째 값을 1로 설정합니다.\n",
        "fibo[1] = 1\n",
        "# 0, 1번째 값은 알고 있으므로 2번 값부터 N번 값까지 구하면 됩니다.\n",
        "for i in range(2, N + 1):\n",
        "\tfibo[i] = fibo[i - 1] + fibo[i - 2]\n",
        "print(fibo[40]) # 102334155\n",
        "```\n",
        "### **동적 계획법의 핵심은 이전에 구한 값을 저장해두고, 다시 사용하는 것**\n",
        "- 이전의 값이 다음 계산에 사용되기에, 필요한 중복 계산을 최대한 줄이는 것이 중요 => **메모이제이션**\n",
        "\n"
      ],
      "metadata": {
        "id": "LLSLFNOZbhhn"
      }
    },
    {
      "cell_type": "code",
      "source": [
        "# Answer code\n",
        "N = int(input())\n",
        "A, B = map(int, input().split())\n",
        "\n",
        "dp = [float('inf')] * (N + 1)\n",
        "dp[0] = 0\n",
        "\n",
        "for i in range(N + 1):\n",
        "\tif i - A >= 0:\n",
        "\t\tdp[i] = min(dp[i], dp[i - A] + 1)\n",
        "\tif i - B >= 0:\n",
        "\t\tdp[i] = min(dp[i], dp[i - B] + 1)\n",
        "\n",
        "print(dp[N] if dp[N] != float('inf') else -1)"
      ],
      "metadata": {
        "colab": {
          "base_uri": "https://localhost:8080/"
        },
        "id": "8vMqhsk2j62c",
        "outputId": "e617f319-3e79-4b35-e382-e84b4a62538a"
      },
      "execution_count": null,
      "outputs": [
        {
          "output_type": "stream",
          "name": "stdout",
          "text": [
            "5\n",
            "2 3\n",
            "[inf, inf, inf, inf, inf, inf]\n"
          ]
        }
      ]
    },
    {
      "cell_type": "markdown",
      "source": [
        "### **코드 해설**\n",
        "- 7이 투입되기 전까지 2로 N을 구성하는 최소의 개수를 결정하고, N이 7이상이 되면, 2를 쓴다는 가정하에 계산을 해보고, 그 다음 7을 하나는 쓴다는 가정하에(N에서 7을 빼고, 2로만 구성을 해본다는 처음의 인스턴스를 시작으로!), 이전의 최적 기법과 비교해서 7을 최대한 많이 쓰도록 하는 코다.\n",
        "\n",
        "- A, B의 공배수를 공략한다고 보면 이해가 쉬울 것이다."
      ],
      "metadata": {
        "id": "a23rr73SrPPX"
      }
    },
    {
      "cell_type": "markdown",
      "source": [
        "### **global 변수**\n",
        "> **파이썬 함수 내에서 전역 변수를 수정하려면 global 키워드를 통해서 전역변수임을 명시해주어야 한다. 그렇지 않으면 그저 함수내에 지역 변수로 인식될 것이다.**\n",
        "\n",
        "- 전역변수를 선언하는 방법은 변수명 앞에 global을 붙이는 것이다.\n",
        "- 아래와 같이 함수 안에서 global을 붙여도 되고, 함수 밖에서 global을 붙여도 된다.\n",
        "- 하지만 함수 밖에서 선언하였다면 함수 안에서 사용할 때, 다시 사용을 명시해주어야 한다.\n",
        "\n",
        "\n",
        "1.  함수 안에서 global로 전역변수 선언하기\n",
        "```python\n",
        "def test():\n",
        "    global a\n",
        "    a = 3\n",
        "    b = 2\n",
        "    return a + b\n",
        "print(test())\n",
        "print(a)\n",
        "```\n",
        "2. 함수 밖에서 global로 전역변수를 선언한 후, a를 사용하기 위해서\n",
        "```python\n",
        "global a\n",
        "a = 1\n",
        "def test():\n",
        "    global a\n",
        "    a = 3\n",
        "    b = 2\n",
        "    return a + b\n",
        "print(test())\n",
        "print(a)\n",
        "```\n",
        "---\n",
        "- 함수가 끝날 땐 그 함수 내에서 만들었던 변수들은 모두 없어진다.\n",
        "- 함수 안에서 만들어진 변수를 지역변수라고 한다.\n",
        "- 함수 밖에서 만들어진 변수를 전역변수라고한다.\n",
        "- 지역변수는 함수가 호출되면 만들어져서, 함수의 실행이 끝날 때 함께 없어지는 반면, 전역변수는 함수와는 관계없이 존재한다.\n",
        "---\n",
        "- ### **반복문이나 조건문의 경우에는 전역변수로 지정된 변수를 해당 블락 안에서 별도의 전역변수 선언 없이 바로 사용 가능**\n",
        "\n",
        "- 파이썬에서 반복문이나 조건문 안에서 변수를 수정하는 경우, 해당 변수가 이미 전역 변수로 선언되어 있으면 그 변수는 전역 변수로 간주되어 수정됩니다. 반복문이나 조건문에서 변수를 다시 선언하지 않고 사용하는 경우, 파이썬은 가장 가까운 스코프에 있는 변수를 사용합니다. 따라서 전역 변수를 해당 블록 내에서 사용하면 해당 전역 변수가 수정됩니다.\n",
        "\n",
        "- ### **파이썬에서 함수 외부에서 선언된 변수와 함수 내부에서 선언된 변수는 서로 다른 변수로 간주됩니다.**\n"
      ],
      "metadata": {
        "id": "vtgIvKL-dtqO"
      }
    },
    {
      "cell_type": "code",
      "source": [
        "# in 함수 -> val : 지역 변수\n",
        "val = False\n",
        "\n",
        "def change_val():\n",
        "    # 아래 val은 함수내의 '지역변수'다.\n",
        "    val = True\n",
        "change_val()\n",
        "print(val)"
      ],
      "metadata": {
        "colab": {
          "base_uri": "https://localhost:8080/"
        },
        "id": "1K-BgZdCeZGV",
        "outputId": "bcf49004-98e7-4fdc-e463-631ce6f4b509"
      },
      "execution_count": null,
      "outputs": [
        {
          "output_type": "stream",
          "name": "stdout",
          "text": [
            "False\n"
          ]
        }
      ]
    },
    {
      "cell_type": "code",
      "source": [
        "# in 반복문 -> val : 전역 변수\n",
        "val = False\n",
        "for i in range(1):\n",
        "  val = True\n",
        "print(val)"
      ],
      "metadata": {
        "colab": {
          "base_uri": "https://localhost:8080/"
        },
        "id": "KS7xx3GrefhV",
        "outputId": "e246d896-b226-4245-c742-680220352be9"
      },
      "execution_count": null,
      "outputs": [
        {
          "output_type": "stream",
          "name": "stdout",
          "text": [
            "True\n"
          ]
        }
      ]
    },
    {
      "cell_type": "markdown",
      "source": [
        "### **inf()**\n",
        "- float('inf')는 무한대를 나타내는 부동소수점 숫자입니다. 'inf'는 문자열이 아닌 특수한 부동소수점 값으로 간주되며, float() 함수를 사용하여 부동소수점 형태로 변환됩니다.\n",
        "\n",
        "- 따라서 a는 무한대를 나타내는 부동소수점 숫자가 됩니다. 이 값은 실수형(float)으로 자동으로 변환되며, a의 자료형은 float가 됩니다.\n",
        "\n",
        "```python\n",
        "a = float('inf')\n",
        "print(a)  # 출력: inf\n",
        "print(type(a))  # 출력: <class 'float'>\n",
        "```\n",
        "- 부동소수점(Floating-Point)은 실수를 근사적으로 표현하는 방법"
      ],
      "metadata": {
        "id": "J9GDNFSInzRB"
      }
    },
    {
      "cell_type": "markdown",
      "source": [
        "### Print 내부에 조건문 넣기\n",
        "> print(\"뒤의 if문이 참이면 앞을 출력합니다\" if (조건문) else \"if문이 거짓이면 뒤를 출력합니다\")\n",
        "\n",
        "```python\n",
        "'''\n",
        "if dp[N] != float('inf'):\n",
        "\tprint(dp[N])\n",
        "else:\n",
        "\tprint(-1)\n",
        "이 4줄이 다음과 같이 줄어듭니다.\n",
        "'''\n",
        "print(dp[N] if dp[N] != float('inf') else -1)\n",
        "```\n",
        "\n"
      ],
      "metadata": {
        "id": "45agXxGDq_0T"
      }
    },
    {
      "cell_type": "markdown",
      "source": [
        "### **List 뒤집기**\n",
        "1. 파이썬 리스트 뒤집기\n",
        "```python\n",
        "k = list(range(8))\n",
        "k = k[::-1]\n",
        "```\n",
        "2. reverse() 메서드 사용하기\n",
        "```python\n",
        "close = [46250, 46600, 47000, 46500, 45700, 45600, 45500, 45700, 45500, 45350]\n",
        "close.reverse()\n",
        "```\n",
        "\n",
        "3. reversed()\n",
        "```python\n",
        "close = [46250, 46600, 47000, 46500, 45700, 45600, 45500, 45700, 45500, 45350]\n",
        "reversed_close = list(reversed(close))\n",
        "```\n",
        "![image.png](data:image/png;base64,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)\n",
        "\n"
      ],
      "metadata": {
        "id": "F36y3J13Wv_Q"
      }
    }
  ]
}