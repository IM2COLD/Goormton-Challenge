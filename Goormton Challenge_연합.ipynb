{
  "nbformat": 4,
  "nbformat_minor": 0,
  "metadata": {
    "colab": {
      "provenance": []
    },
    "kernelspec": {
      "name": "python3",
      "display_name": "Python 3"
    },
    "language_info": {
      "name": "python"
    }
  },
  "cells": [
    {
      "cell_type": "code",
      "source": [
        "N, M = map(int, input().split())\n",
        "lst = [list(map(int,input().split())) for _ in range(M)]\n",
        "strt = [[] for _ in range(N+1)]\n",
        "\n",
        "for k in lst:\n",
        "\tstart = k[0]\n",
        "\tend = k[1]\n",
        "\tstrt[start].append(end)\n",
        "\n",
        "yhq = []\n",
        "\n",
        "for i in range(1,N+1):\n",
        "\tif not strt[i]:\n",
        "\t\tcontinue\n",
        "\telse:\n",
        "\t\tfor k in strt[i]:\n",
        "\t\t\tif i in strt[k]:\n",
        "\t\t\t\tyhq.extend([i,k])\n",
        "\t\t\t\tkidx = strt[i].index(k)\n",
        "\t\t\t\tstrt[i][kidx] = 0\n",
        "\t\t\telse:\n",
        "\t\t\t\tcontinue\n",
        "\n",
        "\n",
        "yhset = set(yhq)\n",
        "final = int(N - len(yhset) + (len(yhq)/2) - (len(yhq) - len(yhset)))\n",
        "print(final)"
      ],
      "metadata": {
        "id": "rDBf7c-Eqym6"
      },
      "execution_count": null,
      "outputs": []
    },
    {
      "cell_type": "markdown",
      "source": [
        "- 가는 길과 오는 길이 있다면 모두 추가한 다음, 연합이 된 수만큼 원래 개별 연합 개수에서 뺴려고 했는데, 모든 case를 커버하지는 않았다.\n",
        "- 각각의 연합들을 개별로 처리하고, 나중에 병합을 생각하려 했는데, 그 과정이 너무 복잡했다. 처음부터 연결되어있던 연합은 끝까지 이동했어야 했다."
      ],
      "metadata": {
        "id": "fgb986nJDhcV"
      }
    },
    {
      "cell_type": "code",
      "source": [
        "# Answer Code\n",
        "\n",
        "from collections import deque\n",
        "\n",
        "N, M = map(int, input().split())\n",
        "graph = [[] for _ in range(N + 1)]\n",
        "visited = [0] * (N + 1)\n",
        "result = 0\n",
        "\n",
        "for _ in range(M):\n",
        "\ts, e = map(int, input().split())\n",
        "\tgraph[s].append(e)\n",
        "\n",
        "# 1번 섬부터 N번 섬까지 모두 탐색을 진행해볼게요.\n",
        "for i in range(1, N + 1):\n",
        "\t# 만약, 이미 어떤 연합에 속한 섬인 경우 건너뜁니다.\n",
        "\tif visited[i]:\n",
        "\t\tcontinue\n",
        "\n",
        "\t# 처음 방문하는 섬인 경우 큐에 넣습니다.\n",
        "\tq = deque([i])\n",
        "\t# 이 섬에서 출발해 도달할 수 있는 모든 섬은 하나의 연합입니다. result에 1을 더합니다.\n",
        "\tresult += 1\n",
        "\t# 방문체크 잊으면 안되죠.\n",
        "\tvisited[i] = 1\n",
        "\n",
        "\twhile q:\n",
        "\t\tnow = q.popleft()\n",
        "\t\t# 현재 섬에서 도달 가능한 섬들 중에서\n",
        "\t\tfor to in graph[now]:\n",
        "\t\t\t# 아직 방문하지 않았고, 그 섬에서 현재 섬으로 오는 간선이 있으면\n",
        "\t\t\tif not visited[to] and now in graph[to]:\n",
        "\t\t\t\t# 큐에 추가하고, 연합에 포함되었으므로 방문 체크를 해줍니다.\n",
        "\t\t\t\tq.append(to)\n",
        "\t\t\t\tvisited[to] = 1\n",
        "\n",
        "print(result)"
      ],
      "metadata": {
        "id": "ixh_FHmasTy8"
      },
      "execution_count": null,
      "outputs": []
    }
  ]
}