{
  "nbformat": 4,
  "nbformat_minor": 0,
  "metadata": {
    "colab": {
      "provenance": []
    },
    "kernelspec": {
      "name": "python3",
      "display_name": "Python 3"
    },
    "language_info": {
      "name": "python"
    }
  },
  "cells": [
    {
      "cell_type": "code",
      "source": [
        "# DFS 이용\n",
        "dy = [1,-1,0,0]\n",
        "dx = [0,0,-1,1]\n",
        "\n",
        "def dfs(i,j):\n",
        "  stack = [(i,j)]\n",
        "  M = arr[i][j]\n",
        "  cnt = 0\n",
        "  while stack:\n",
        "    y,x = stack.pop()\n",
        "\n",
        "    if arr[y][x] != M:\n",
        "      continue\n",
        "\n",
        "    arr[y][x] = 0\n",
        "    cnt += 1\n",
        "\n",
        "    for k in range(4):\n",
        "      ny, nx = y + dy[k], x + dx[k]\n",
        "      if ny in (-1, N) or nx in (-1, N) or arr[ny][nx] != M:\n",
        "        continue\n",
        "      stack.append((ny,nx))\n",
        "\n",
        "  return cnt\n",
        "\n",
        "N, K = map(int, input().split())\n",
        "arr = [list(map(int,input().split())) for _ in range(N)]\n",
        "count = [0] * 31\n",
        "\n",
        "for i in range(N):\n",
        "  for j in range(N):\n",
        "    if arr[i][j]:\n",
        "      M = arr[i][j]\n",
        "      if dfs(i,j) >= K:\n",
        "        count[M] += 1\n",
        "\n",
        "result, temp = 0, 0\n",
        "\n",
        "for i in range(31):\n",
        "  if temp <= count[i]:\n",
        "    result = i\n",
        "    temp = count[i]\n",
        "\n",
        "print(result)"
      ],
      "metadata": {
        "colab": {
          "base_uri": "https://localhost:8080/"
        },
        "id": "PMR0BOeWabRN",
        "outputId": "377c532b-5ee2-421f-b771-fc1f615ab2ed"
      },
      "execution_count": 22,
      "outputs": [
        {
          "output_type": "stream",
          "name": "stdout",
          "text": [
            "3 2\n",
            "1 1 3\n",
            "2 2 3\n",
            "3 3 2\n",
            "3\n"
          ]
        }
      ]
    },
    {
      "cell_type": "code",
      "source": [
        "# BFS 이용\n",
        "from collections import deque\n",
        "\n",
        "dy = [1,-1,0,0]\n",
        "dx = [0,0,-1,1]\n",
        "\n",
        "def bfs (i, j):\n",
        "  que = deque([(i,j)])\n",
        "  M = arr[i][j]\n",
        "  cnt = 0\n",
        "\n",
        "  while que:\n",
        "    y, x = que.popleft()\n",
        "    if arr[y][x] != M:\n",
        "      continue\n",
        "    arr[y][x] = 0\n",
        "    cnt += 1\n",
        "    for i in range(4):\n",
        "      ny = y + dy[i]\n",
        "      nx = x + dx[i]\n",
        "      if ny in (-1, N) or nx in (-1, N) or arr[ny][nx] != M:\n",
        "        continue\n",
        "      que.append([ny, nx])\n",
        "  return cnt\n",
        "\n",
        "N, K = map(int, input().split())\n",
        "arr = [list(map(int,input().split())) for _ in range(N)]\n",
        "count = [0] * 31\n",
        "\n",
        "for i in range(N):\n",
        "  for j in range(N):\n",
        "    if arr[i][j] != 0:\n",
        "      M = arr[i][j]\n",
        "      if bfs(i,j) >= K:\n",
        "        count[M] += 1\n",
        "\n",
        "tem = 0\n",
        "result = 0\n",
        "for m in range(1,31):\n",
        "  if count[m] >= tem:\n",
        "    tem = count[m]\n",
        "    result = m\n",
        "\n",
        "print(result)"
      ],
      "metadata": {
        "id": "IDqqwK58rmzV"
      },
      "execution_count": null,
      "outputs": []
    },
    {
      "cell_type": "markdown",
      "source": [
        "> if arr[y][x] != M:\n",
        "\n",
        "- 특정 위치를 처음 방문했을 때 해당 값이 M이라면 해당 클러스터 내에서 모든 위치에 대해 값을 세고 그 값을 0으로 바꾸는 과정이 진행됩니다. 그 후에 다시 같은 클러스터 내에서 다른 위치를 방문하게 되면, 해당 값도 다시 세게 되어 중복 계산이 발생할 것입니다."
      ],
      "metadata": {
        "id": "xU0TRN_yzP96"
      }
    },
    {
      "cell_type": "markdown",
      "source": [
        "- 딕셔너리를 이용하지 않고, 배열의 index로 건물 유형을 나타내고 해당 값을 계산한다.\n",
        "```python\n",
        "count = [0] * 31\n",
        "```\n",
        "\n"
      ],
      "metadata": {
        "id": "T4mmgFTAz7k1"
      }
    },
    {
      "cell_type": "code",
      "source": [
        "y,x = stack.pop()\n",
        "# [a,b] 처럼 list 안에 값이 2개가 있으면 변수 2개에 할당 가능"
      ],
      "metadata": {
        "id": "kc2-Ji1nll5u"
      },
      "execution_count": null,
      "outputs": []
    },
    {
      "cell_type": "code",
      "source": [
        "a = [4,3,2,5,67,2,1]\n",
        "a = set(a)\n",
        "a = list(a)\n",
        "a"
      ],
      "metadata": {
        "colab": {
          "base_uri": "https://localhost:8080/"
        },
        "id": "CKJ5gPfBHG5p",
        "outputId": "861a2b79-a76c-4022-b336-aeca1de0ff5b"
      },
      "execution_count": 3,
      "outputs": [
        {
          "output_type": "execute_result",
          "data": {
            "text/plain": [
              "[1, 2, 67, 3, 4, 5]"
            ]
          },
          "metadata": {},
          "execution_count": 3
        }
      ]
    },
    {
      "cell_type": "markdown",
      "source": [
        "### **List Comprehension**\n",
        "> [( 변수를 활용한 값 ) for ( 사용할 변수 이름 ) in ( 순회할 수 있는 값 )]\n",
        "\n",
        "- 리스트 컴프리헨션의 결과는 새로운 리스트를 만든다 => 겉부분의 [ ]가 안의 배열의 자료형을 list로 만든다고 생각하면 될 것 같다.\n",
        "\n",
        "- 리스트 컴프리헨션을 사용하는 이유는 대괄호 내에서 수식이나 함수 적용뿐만 아니라, if-else문으로 조건을 자유롭게 줄 수 있다는 점이다\n",
        "\n",
        "```python\n",
        "my_list = [1, 2, 2, 3, 4, 4, 5]\n",
        "unique_list = []\n",
        "[unique_list.append(x) for x in my_list if x not in unique_list]\n",
        "unique_list\n",
        "```\n",
        "\n"
      ],
      "metadata": {
        "id": "ydGQgc9nagti"
      }
    },
    {
      "cell_type": "code",
      "source": [
        "my_list = [1, 2, 2, 3, 4, 4, 5]\n",
        "unique_list = []\n",
        "k = [unique_list.append(x) for x in my_list if x not in unique_list]\n",
        "# append 메서드는 None을 반환\n",
        "# 따라서 k는 None들의 list가 되는 것임\n",
        "k\n",
        "# 위의 코드는 단지 unique_list에 값을 추가해주려는 반복문을 실행하기 위함임"
      ],
      "metadata": {
        "colab": {
          "base_uri": "https://localhost:8080/"
        },
        "id": "fXHouB9WdsaP",
        "outputId": "72e2f7bd-87f0-492e-8eb1-e1bfa4a14320"
      },
      "execution_count": null,
      "outputs": [
        {
          "output_type": "execute_result",
          "data": {
            "text/plain": [
              "[None, None, None, None, None]"
            ]
          },
          "metadata": {},
          "execution_count": 10
        }
      ]
    },
    {
      "cell_type": "markdown",
      "source": [
        "#### **List 내 특정 요소 모두 삭제하기**\n",
        "\n",
        "\n",
        "```python\n",
        "a = [b for b in lists if b != '특정 값']\n",
        "```\n",
        "\n"
      ],
      "metadata": {
        "id": "cVtfm1PrSGZy"
      }
    },
    {
      "cell_type": "markdown",
      "source": [
        "Key Point\n",
        "\n",
        "- sorted하면 반환해주고\n",
        "sort는 자체를 바꿔주고, None을 반환"
      ],
      "metadata": {
        "id": "-oU9QYpqT85W"
      }
    },
    {
      "cell_type": "code",
      "source": [
        "import statistics\n",
        "a = sorted([1,1,1,1,2,2,2,2,3,3,4,4,4,4,5,5,6,7,8,8,8,8],reverse = True)\n",
        "b = statistics.mode(a)\n",
        "print(b)"
      ],
      "metadata": {
        "colab": {
          "base_uri": "https://localhost:8080/"
        },
        "id": "hVv4raE1TZl3",
        "outputId": "62384146-9fbb-4766-e88b-b147482f3fd7"
      },
      "execution_count": 9,
      "outputs": [
        {
          "output_type": "stream",
          "name": "stdout",
          "text": [
            "8\n"
          ]
        }
      ]
    },
    {
      "cell_type": "code",
      "source": [
        "from collections import Counter\n",
        "a = [1,1,11,2,2,3,3,4,4,4,4,5,5,6,7,8,8,8]\n",
        "counter = Counter(a)\n",
        "mode_value = counter.most_common(2) # 입력값은 등수\n",
        "mode_value"
      ],
      "metadata": {
        "colab": {
          "base_uri": "https://localhost:8080/"
        },
        "id": "mxZ8_FKJrDiM",
        "outputId": "39fad018-e243-485c-8f5e-8b9a2eb15496"
      },
      "execution_count": 25,
      "outputs": [
        {
          "output_type": "execute_result",
          "data": {
            "text/plain": [
              "[(4, 4), (8, 3)]"
            ]
          },
          "metadata": {},
          "execution_count": 25
        }
      ]
    }
  ]
}