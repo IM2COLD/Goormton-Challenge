{
  "nbformat": 4,
  "nbformat_minor": 0,
  "metadata": {
    "colab": {
      "provenance": []
    },
    "kernelspec": {
      "name": "python3",
      "display_name": "Python 3"
    },
    "language_info": {
      "name": "python"
    }
  },
  "cells": [
    {
      "cell_type": "markdown",
      "source": [
        "## **Newly Gained Acknowledge**\n",
        "### **Greedy Algorithm 탐욕법**\n",
        "- 문제를 해결할 때 현재 경우만을 고려해서 최적의 상황을 선택하는 방법이다.\n",
        "- 모든 경우의 수, 이후의 경우를 고려하는 것이 아닌, 지금 이 순간의 최적의 선택을 하는 알고리즘이다.\n",
        "- 그렇기에, 이 방법을 사용했을 때 항상 최적해를 구할 수 있는 것은 아니다\n",
        "\n",
        "> 아래의 2가지 조건이 성립한다면 그리디 알고리즘을 기계적으로 적용할 수 있다\n",
        "1. 현재의 최적의 선택이 다음 선택에 영향을 미치지 않는다.\n",
        "2. 현재의 선택이 최종 선택의 최적 해결 방법에 포함된다.\n",
        "\n",
        "- 통증 수치를 줄여주는 값이 서로 배수 관계이기에, 가장 많이 통증을 줄여주는 치료제부터 먼저 뽑으면 최소의 개수로 답을 구할 수 있다."
      ],
      "metadata": {
        "id": "RFuI0rJIZ2WY"
      }
    },
    {
      "cell_type": "code",
      "execution_count": null,
      "metadata": {
        "id": "hBKRKwj6UGhK"
      },
      "outputs": [],
      "source": [
        "# My Code\n",
        "tongz = int(input())\n",
        "fir = 0\n",
        "sec = 0\n",
        "thir = 0\n",
        "rest = tongz\n",
        "if tongz >= 14 :\n",
        "\tfir = tongz // 14\n",
        "\trest = tongz % 14\n",
        "if rest >= 7:\n",
        "\tsec = rest // 7\n",
        "\tthir = rest % 7\n",
        "elif rest < 7:\n",
        "\tthir = rest\n",
        "\n",
        "k = fir + sec + thir\n",
        "print(k)\n"
      ]
    },
    {
      "cell_type": "code",
      "source": [
        "# Answer Code 1\n",
        "N = int(input())\n",
        "\n",
        "result = N // 14\n",
        "N %= 14\n",
        "\n",
        "result += N // 7\n",
        "N %= 7\n",
        "\n",
        "result += N\n",
        "\n",
        "print(result)"
      ],
      "metadata": {
        "id": "mnnSvj09Zz85"
      },
      "execution_count": null,
      "outputs": []
    },
    {
      "cell_type": "code",
      "source": [
        "# Answer Code 2\n",
        "N = int(input())\n",
        "result = 0\n",
        "\n",
        "# [14, 7, 1] 이라는 배열의 각 원소 item 에 대하여\n",
        "for item in [14, 7, 1]:\n",
        "\tresult += N // item\n",
        "\tN %= item\n",
        "\n",
        "print(result)"
      ],
      "metadata": {
        "id": "xwBG-PH2bT26"
      },
      "execution_count": null,
      "outputs": []
    },
    {
      "cell_type": "markdown",
      "source": [
        ">  In Python, the code is executed sequentially, line by line. In the provided code, if the input value tongz is 50, both if statements are true. However, the first if statement is executed first, and it modifies the value of the rest variable. The second if statement then operates on the updated value of rest."
      ],
      "metadata": {
        "id": "ZobUJZSZZHkc"
      }
    },
    {
      "cell_type": "markdown",
      "source": [
        "**to avoid errors, it's a good practice to initialize your variables with some default values before using them**\n",
        "\n",
        "- if 문 안에서 계산된 값을 어떤 변수에 할당해주고 싶다면, if 문 밖에서 global variance로 변수를 만들어준 후에만 바꿀 수 있다. 그렇지 않으면 해당 변수가 정의되지 않았다는 오류가 발생한다."
      ],
      "metadata": {
        "id": "IR3XMUOqY3DL"
      }
    }
  ]
}