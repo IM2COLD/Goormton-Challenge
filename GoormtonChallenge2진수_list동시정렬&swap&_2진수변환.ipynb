{
  "nbformat": 4,
  "nbformat_minor": 0,
  "metadata": {
    "colab": {
      "provenance": []
    },
    "kernelspec": {
      "name": "python3",
      "display_name": "Python 3"
    },
    "language_info": {
      "name": "python"
    }
  },
  "cells": [
    {
      "cell_type": "code",
      "source": [
        "# My Code\n",
        "numb, kdex = map(int, input().split())\n",
        "numlist = map(int, input().split())\n",
        "sortednumlist = sorted(numlist, reverse = True)\n",
        "binnum = list(map(bin, sortednumlist))\n",
        "countone = []\n",
        "\n",
        "for i in range(numb):\n",
        "\tbinnum = list(map(str,binnum))\n",
        "\tnumone = binnum[i].count('1')\n",
        "\tcountone.append(numone)\n",
        "\n",
        "reallist = []\n",
        "for j in range(numb):\n",
        "\treallist.append([countone[j],sortednumlist[j]])\n",
        "\n",
        "reallist.sort(reverse = True)\n",
        "\n",
        "print(reallist[kdex-1][1])"
      ],
      "metadata": {
        "colab": {
          "base_uri": "https://localhost:8080/"
        },
        "id": "uYf8YKtfvM2e",
        "outputId": "81ba5c35-1a52-4764-c562-df2af7d8d35f"
      },
      "execution_count": null,
      "outputs": [
        {
          "output_type": "stream",
          "name": "stdout",
          "text": [
            "7 1\n",
            "1 2 4 8 16 32 64\n",
            "64\n"
          ]
        }
      ]
    },
    {
      "cell_type": "markdown",
      "source": [
        "> In the loop where you are counting the number of '1's in each binary representation (numone = binnum[i].count('1')), you are converting the entire binnum list to strings in each iteration (binnum = list(map(str, binnum))). This operation is unnecessary and inefficient. You only need to convert the individual binary strings to count the '1's."
      ],
      "metadata": {
        "id": "BZPc3H-VM0rc"
      }
    },
    {
      "cell_type": "code",
      "source": [
        "# Answer code\n",
        "N, K = map(int, input().split())\n",
        "arr = list(map(int, input().split()))\n",
        "\n",
        "newArr = []\n",
        "\n",
        "for i in range(N):\n",
        "\tbinaryNumber = bin(arr[i])[2:]\n",
        "\n",
        "\tcount = 0\n",
        "\n",
        "\tfor c in binaryNumber:\n",
        "\t\tif c == '1':\n",
        "\t\t\tcount += 1\n",
        "\n",
        "\tnewArr.append( [count, arr[i]] )\n",
        "\n",
        "newArr.sort(reverse=True)\n",
        "print(newArr[K - 1][1])"
      ],
      "metadata": {
        "id": "RFmub3dzH82h"
      },
      "execution_count": null,
      "outputs": []
    },
    {
      "cell_type": "markdown",
      "source": [
        "## **Knewly Noticed Akcnowlede**\n",
        "### **count()**\n",
        "- '변수. count(찾는 요소)'\n",
        "\n",
        "\n",
        "```python\n",
        "# string\n",
        "b = 'ox o x oxoxox'\n",
        "b.count('ox')\n",
        "# list\n",
        "a = [1, 1, 1, 2, 3]\n",
        "a.count(1)\n",
        "3\n",
        "# bool\n",
        "bool = True, False, True\n",
        "bool.count(True)\n",
        "# 2\n",
        "type(bool)\n",
        "<class 'tuple'>\n",
        "# dictionary, set에는 사용 불가\n",
        "```\n",
        "---\n",
        "## **sort() : 문자열 자체를 정렬하기**\n",
        "```python\n",
        "s = \"adfe\"\n",
        "s1 = s.sort()\t\t\t# wrong\n",
        "s2 = sorted(s)\t\t\t# ['a','d','e','f'] -> return type이 list\n",
        "s3 = ''.join(sorted(s))\t\t# \"adef\"\n",
        "```\n",
        "### **list에도 .sort(), sorted() 사용 가능**\n",
        "```python\n",
        ">>> a = [1, 10, 5, 7, 6]\n",
        ">>> a.sort()\n",
        ">>> a\n",
        "[1, 5, 6, 7, 10]\n",
        "```\n",
        "- sort의 key 옵션, key 옵션에 지정된 함수의 결과에따라 정렬, 아래는 원소의 길이\n",
        "```python\n",
        ">>> m = '나는 파이썬을 잘하고 싶다'\n",
        ">>> m = m.split()\n",
        ">>> m\n",
        "['나는', '파이썬을', '잘하고', '싶다']\n",
        ">>> m.sort(key=len)\n",
        ">>> m\n",
        "['나는', '싶다', '잘하고', '파이썬을']\n",
        "```\n",
        "---\n",
        "### **두 변수 사이 값 서로 교환하기 swapping**\n",
        "```python\n",
        "# swap\n",
        "a, b = b, a\n",
        "```\n",
        "---\n",
        "### **2진수 : 진법 변환**\n",
        "- 2진수 : 끝에서 n번째 자릿수에 2^n-1를 곱해준다.\n",
        "\n",
        "- 10진수 -> 2진수 변환\n",
        "```python\n",
        "b = bin(16)\n",
        "print(b)\n",
        "# 0b10000\n",
        "```\n",
        "- 2진수 -> 10진수 변환\n",
        "```python\n",
        "a = int('0b10000', 2)\n",
        "print(a)\n",
        "# 16\n",
        "```\n",
        "```python\n",
        "num = 10\n",
        "binaryNumber = bin(num)\n",
        "print(binaryNumber) # 0b1010\n",
        "```\n",
        "- 이 때, binaryNumber의 타입은 문자열(str) 입니다.\n",
        "binaryNumber의 맨 앞 두글자 \"0b\" 는 이 문자열이 2진수 문자열임을 나타냅니다. 보통 2진수를 다룰 경우 \"0b\" 부분은 자르고 3번째 문자부터 사용합니다.\n",
        "- [진법 변환](https://wikidocs.net/121166)\n",
        "```python\n",
        "for i in range(N):\n",
        "\tbinaryNumber = bin(arr[i])[2:]\n",
        "\tcount = 0\n",
        "\t# binaryNumber 라는 문자열의 각 문자 c에 대하여\n",
        "\tfor c in binaryNumber:\n",
        "\t\tif c == '1':\n",
        "\t\t\tcount += 1\n",
        "\t# 첫 번째 값으로 1의 개수를, 두 번째 값으로 원래의 10진수를 묶어서 newArr에 추가합니다.\n",
        "\tnewArr.append( [count, arr[i]] )\n",
        "print(newArr)\n",
        "# 예제 1의 경우, [[1, 1], [1, 2], [2, 3], [1, 4], [2, 5], [2, 6], [3, 7], [1, 8]]\n",
        "```\n",
        "```python\n",
        "for i in range(20):\n",
        "print(i, bin(i), oct(i), hex(i)) # 십진수, 이진수, 8진수, 16진수를 출력\n",
        "```"
      ],
      "metadata": {
        "id": "t9sVG7LHfVpA"
      }
    }
  ]
}