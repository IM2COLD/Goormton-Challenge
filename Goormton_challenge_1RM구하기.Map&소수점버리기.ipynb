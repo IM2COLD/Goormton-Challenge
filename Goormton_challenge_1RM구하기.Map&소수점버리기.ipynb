{
  "nbformat": 4,
  "nbformat_minor": 0,
  "metadata": {
    "colab": {
      "provenance": []
    },
    "kernelspec": {
      "name": "python3",
      "display_name": "Python 3"
    },
    "language_info": {
      "name": "python"
    }
  },
  "cells": [
    {
      "cell_type": "code",
      "source": [
        "# 1번째 문제\n",
        "import math\n",
        "inputt = str(input())\n",
        "spl = inputt.split(' ')\n",
        "W = int(spl[0])\n",
        "R = int(spl[1])\n",
        "if (1<=W) and (W<= 1000000):\n",
        "\tif (1<=R) and (R<=100):\n",
        "\t\tRM = W * (1 + R/30)\n",
        "\t\tRM = math.floor(RM)\n",
        "\t\tprint(RM)"
      ],
      "metadata": {
        "colab": {
          "base_uri": "https://localhost:8080/"
        },
        "id": "exUWX8CCZU9I",
        "outputId": "b8ef8ef6-cd4e-4676-9193-9cb3a2f50a74"
      },
      "execution_count": null,
      "outputs": [
        {
          "output_type": "stream",
          "name": "stdout",
          "text": [
            "100 10\n",
            "134\n"
          ]
        }
      ]
    },
    {
      "cell_type": "code",
      "source": [
        "# 정답 코드\n",
        "import math\n",
        "W, R = map(int, input().split())\n",
        "print(math.trunc(W * (1 + R / 30)))"
      ],
      "metadata": {
        "id": "ZxamDCehkrjp"
      },
      "execution_count": null,
      "outputs": []
    },
    {
      "cell_type": "markdown",
      "source": [
        "> **math, collections, string, itertools** 라이브러리에 대한 이해가 있으면 좋다!"
      ],
      "metadata": {
        "id": "pAhHoNDfjcqH"
      }
    },
    {
      "cell_type": "markdown",
      "source": [
        "### **map()**\n",
        "> 입력값으로 정수 2개를 한 번에 입력받는다. 줄 바꿈이 발생하기 전까진 input() 함수는 이를 하나의 입력으로 처리하려하기에, 2개의 정수를 한 번에 받는 것이 어렵다.\n",
        "\n",
        "- 이때 map함수를 사용하면 2개의 정수를 쉽게 해결할 수 있다.\n",
        "```python\n",
        "def add(n):\n",
        "\treturn n + 1\n",
        "a = [1, 2, 3]\n",
        "# map 함수는 순환 가능한 자료형 ex) List, Tuple 등의 모든 요소에 함수를 적용합니다.\n",
        "# 아래 코드는 a 리스트의 모든 요소에 add 함수를 적용한 결과를 반환한 결과입니다.\n",
        "new_a = list(map(add, a)) # map 함수는 map object를 반환하기 때문에 자료형 변환이 필요합니다.\n",
        "print(new_a) # [2, 3, 4]\n",
        "```\n",
        "```python\n",
        "W, R = map(int, input().split())\n",
        "```\n",
        "\n",
        "### **split()**\n",
        ">- 문자열.split()\n",
        "- 문자열.split('구분자')\n",
        "- 문자열.split(sep='구분자', maxsplit=분할횟수)\n",
        "- 해당 파라미터의 기본값은 none이며, 이때 동작은 띄어쓰기, 엔터를 구분자로 하여 문자열을 자릅니다.\n"
      ],
      "metadata": {
        "id": "APcWOZpejmZy"
      }
    },
    {
      "cell_type": "markdown",
      "source": [
        "### **소수점 이하의 숫자를 버리고 정수 부분만 남길 때 사용하는 4가지 메서드**\n",
        "- round(number, n) : 소수점 아래 n자리까지 숫자 반올림\n",
        "\n",
        "```python\n",
        "# 10의 자리까지 반올림\n",
        "x = round(155.54, -1)\n",
        "y = round(234.1535, -1)\n",
        "print(x)\n",
        "print(y)\n",
        "# 160.0\n",
        "# 230.0\n",
        "```\n",
        "\n",
        "```python\n",
        "# f-string을 이용해서 소수 n자리까지 반올림 후 출력\n",
        "n = 3.1415926535\n",
        "print(f'{n}')\n",
        "print(f'{n:.3f}')\n",
        "print(f'{n:.6f}')\n",
        "# 3.1415926535\n",
        "# 3.142\n",
        "# 3.141593\n",
        "```\n",
        "\n",
        "- ceil() : 소수점 아래 숫자 올림\n",
        "```python\n",
        "import math\n",
        "x = math.ceil(2.54)\n",
        "```\n",
        "- floor() : 소수점 아래 숫자 내림\n",
        "```python\n",
        "import math\n",
        "x = math.floor(2.54)\n",
        "```\n",
        "- trunc() 함수로 소수점 아래 숫자 버림\n",
        "```python\n",
        "import math\n",
        "x = math.floor(2.54)\n",
        "```\n",
        "\n",
        "> **floor()와 trunc()의 차이점**\n",
        "- floor()는 소수점 아래 숫자가 있을 때, 더 낮은 정수로 내림합니다. 반면에 trunc()의 경우 소수점 아래 숫자만 버림합니다.\n",
        "\n",
        "```python\n",
        "import math\n",
        "x = math.floor(-2.54)\n",
        "y = math.floor(-3.1235)\n",
        "print(x)\n",
        "print(y)\n",
        "x = math.trunc(-2.54)\n",
        "y = math.trunc(-3.1235)\n",
        "print(x)\n",
        "print(y)\n",
        "# -3\n",
        "# -4\n",
        "# -2\n",
        "# -3\n",
        "```"
      ],
      "metadata": {
        "id": "BUOcoC_bZ39m"
      }
    }
  ]
}