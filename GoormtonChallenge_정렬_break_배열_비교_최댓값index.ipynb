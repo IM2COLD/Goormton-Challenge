{
  "nbformat": 4,
  "nbformat_minor": 0,
  "metadata": {
    "colab": {
      "provenance": []
    },
    "kernelspec": {
      "name": "python3",
      "display_name": "Python 3"
    },
    "language_info": {
      "name": "python"
    }
  },
  "cells": [
    {
      "cell_type": "code",
      "source": [
        "# My Code\n",
        "import numpy as np\n",
        "\n",
        "ingredient = int(input())\n",
        "flavor = list(map(int, input().split()))\n",
        "\n",
        "k = np.argmax(flavor)\n",
        "n = 1\n",
        "\n",
        "if k == 0:\n",
        "    for s in range(ingredient - 1):\n",
        "        if flavor[s] < flavor[s + 1]:\n",
        "            print(0)\n",
        "            n = 0\n",
        "            break  # 루프를 빠져나가기 위해 추가된 부분\n",
        "\n",
        "elif k == ingredient - 1:\n",
        "    for s in range(ingredient - 1):\n",
        "        if flavor[s] > flavor[s + 1]:\n",
        "            print(0)\n",
        "            n = 0\n",
        "            break  # 루프를 빠져나가기 위해 추가된 부분\n",
        "\n",
        "elif 0 < k < ingredient - 1:\n",
        "    for j in range(k):\n",
        "        if flavor[j] > flavor[j + 1]:\n",
        "            print(0)\n",
        "            n = 0\n",
        "            break  # 루프를 빠져나가기 위해 추가된 부분\n",
        "\n",
        "    for l in range(k, ingredient - 1):\n",
        "        if flavor[l] < flavor[l + 1]:\n",
        "            print(0)\n",
        "            n = 0\n",
        "            break  # 루프를 빠져나가기 위해 추가된 부분\n",
        "\n",
        "if n == 1:\n",
        "    score = sum(flavor)\n",
        "    print(score)\n"
      ],
      "metadata": {
        "colab": {
          "base_uri": "https://localhost:8080/"
        },
        "id": "Bh_h2G93GZk3",
        "outputId": "fc818b4e-4534-4c89-e90b-8f020215e3c5"
      },
      "execution_count": 25,
      "outputs": [
        {
          "output_type": "stream",
          "name": "stdout",
          "text": [
            "7\n",
            "1 2 3 5 2 3 1\n",
            "0\n"
          ]
        }
      ]
    },
    {
      "cell_type": "markdown",
      "source": [
        "## **Indentation Error**\n",
        "\n",
        "![image.png](data:image/png;base64,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)\n",
        "> **colab 이랑 goorm에서 번갈아 코드를 시험해보면서 복사 붙여넣기를 반복했더니, Error가 발생했다.**"
      ],
      "metadata": {
        "id": "m1R537zWIkgx"
      }
    },
    {
      "cell_type": "markdown",
      "source": [
        "## **Newly noticed Acknowledge**\n",
        "### **np.argmax()**\n",
        "- 가장 큰 값이 처음으로 나온 index를 반환\n",
        "---\n",
        "- map() 함수는 첫 번째 인자로 전달된 함수를 두 번째 인자로 전달된 iterable(반복 가능한 객체)의 각 요소에 적용하여 새로운 iterable을 생성한다.\n",
        "```python\n",
        "flavor = map(int, ['1', '2'])\n",
        "```\n",
        "- int() 함수는 함수가 아니라 호출 가능한 객체이기에, int()를 함수로 전달하기 위해서는 람다 함수를 사용하거나, int 함수를 직접 사용해야한다.\n",
        "```python\n",
        "flavor = map(lambda x: int(x), ['1', '2'])\n",
        "```\n",
        "- map 함수를 사용한 후의 변수는 data type이 map 객체가 됨\n",
        "- 리스트 형태로 결과를 확인하려면 list() 함수를 사용해서 data type을 바꿔준 후, print 한다.\n",
        "- **map만 적용한 값은 list가 아니므로 꼭 list함수에 넣어 리스트로 변환해주어야 한다.**\n",
        "> map 객체는 리스트와 유사하지만, 실제로는 값을 포함하는 것이 아니라 값을 생성하는 데 사용되는 규칙을 가지고 있습니다. 그래서 map 객체는 순회될 때마다 값을 생성하며, 메모리를 더 효율적으로 사용할 수 있습니다.\n",
        "\n",
        "```python\n",
        "flavor_list = list(flavor)\n",
        "print(flavor_list)  \n",
        "# 출력: [1, 2]\n",
        "```\n",
        "---\n",
        "### **break**\n",
        "반복문(if, while, for)을 멈추고 싶다면 멈추고자 하는 part에 break"
      ],
      "metadata": {
        "id": "vwDOrwV8-JM1"
      }
    },
    {
      "cell_type": "code",
      "source": [
        "# answer code\n",
        "N = int(input())\n",
        "arr = list(map(int, input().split()))\n",
        "\n",
        "MAX = max(arr)\n",
        "maxIndex = arr.index(MAX)\n",
        "\n",
        "left = arr[:maxIndex]\n",
        "right = arr[maxIndex:]\n",
        "\n",
        "left.sort()\n",
        "right.sort(reverse=True)\n",
        "\n",
        "sortedArr = left + right\n",
        "\n",
        "check = True\n",
        "\n",
        "for i in range(N):\n",
        "\tif arr[i] != sortedArr[i]:\n",
        "\t\tcheck = False\n",
        "\t\tbreak\n",
        "\n",
        "if check:\n",
        "\tprint(sum(arr))\n",
        "else:\n",
        "\tprint(0)"
      ],
      "metadata": {
        "id": "cnz_2WJ6J2yL"
      },
      "execution_count": null,
      "outputs": []
    },
    {
      "cell_type": "markdown",
      "source": [
        "> - 여러 개의 반복문을 써서 해결해도 되지만, \"정렬\"을 사용해서 더 쉽게 해결할 수도 있다.\n",
        "- 정수 배열이 주어졌을 때, 가장 큰 값을 기준으로 왼쪽, 오른쪽을 분리한다.\n",
        "- 분리된 왼쪽 배열은 오름차순으로 정렬, 오른쪽 배열은 내림차순으로 정렬한다.\n",
        "- 이후, 분리된 2개의 배열을 합친 뒤, 기존 배열과 동일한 지 비교한다."
      ],
      "metadata": {
        "id": "nUXhvzu3LiR-"
      }
    },
    {
      "cell_type": "markdown",
      "source": [
        "### **Sorted() VS Sort()**\n",
        "\n",
        "```python\n",
        "# sort() 함수의 경우, 원본 배열을 직접 변경합니다.\n",
        "arr = [3, 4, 1, 2]\n",
        "arr.sort()\n",
        "print(arr) # [1, 2, 3, 4]\n",
        "# 따라서, sort() 함수를 호출하는 부분에서는 따로 반환값이 존재하지 않아 None이 반환됩니다.\n",
        "print(arr.sort()) # None\n",
        "# 반면에 sorted() 함수의 경우 원본 배열을 건드리지 않고, 정렬된 새로운 배열을 반환합니다.\n",
        "arr = [3, 4, 1, 2]\n",
        "sortedArr = sorted(arr)\n",
        "print(sortedArr) # [1, 2, 3, 4]\n",
        "# 이 경우 원본 배열은 그대로 존재합니다.\n",
        "print(arr) # [3, 4, 1, 2]\n",
        "'''\n",
        "요약하자면 다음과 같습니다.\n",
        "1. arr.sort() 구문은 원본 배열 arr을 직접 정렬한다.\n",
        "2. arr.sort() 호출 자체는 반환값이 존재하지 않는다.\n",
        "3. sorted(arr) 구문은 arr을 정렬한 새로운 배열을 반환한다.\n",
        "4. sorted(arr)을 사용하더라도 원본 배열 arr은 변하지 않는다.\n",
        "'''\n",
        "# default : 오름차순\n",
        "# 내림차순 -> reverse = True\n",
        "```\n",
        "\n",
        "### 배열 합치기\n",
        "```python\n",
        "# 1. + 사용하기\n",
        "left = [1, 2]\n",
        "right = [3, 4]\n",
        "sumArr = left + right\n",
        "print(sumArr) # [1, 2, 3, 4]\n",
        "# 2. extend 사용하기\n",
        "left.extend(right)\n",
        "print(left) # [1, 2, 3, 4]\n",
        "```\n",
        "### 두 배열 비교하기\n",
        "```python\n",
        "# 기존에 입력받았던 배열의 길이 N과 arr, sortedArr을 사용해 구현합니다.\n",
        "# 두 배열이 같은지 확인하기 위한 변수를 하나 선언합니다.\n",
        "check = True\n",
        "for i in range(N):\n",
        "\tif arr[i] != sorted[i]:\n",
        "\t\t# 만약 i번 째 원소가 다르다면, 두 배열은 다르므로 check를 False로 바꾸고 for문을 끝냅니다.\n",
        "\t\tcheck = False\n",
        "\t\tbreak\n",
        "# 위의 for문에서, 모든 원소가 동일하다면 check는 그대로 True\n",
        "```\n",
        "- Tip!\n",
        "- for - else 문법\n",
        "```python\n",
        "for i in range(N):\n",
        "\tif arr[i] != sortedArr[i]:\n",
        "\t\t# 배열이 다른 경우이므로 0을 출력하고 else 부분을 건너뜁니다. 즉, 프로그램을 종료합니다.\n",
        "\t\tprint(0)\n",
        "\t\tbreak\n",
        "else:\n",
        "\t# 만약 break없이, for문이 온전히 끝났다면 이 else 부분을 실행합니다.\n",
        "\tprint(sum(arr))\n",
        "```\n",
        "코드와 같은 꼴로 사용합니다. 만약 for문 중간에서 break가 실행되면 else 부분을 실행하지 않습니다.break에 걸리지 않고 for문이 끝까지 도는 경우 else 부분을 실행합니다.\n",
        "```python\n",
        "for i in range(N):\n",
        "\tif 조건문:\n",
        "\t\tbreak\n",
        "else:\n",
        "```"
      ],
      "metadata": {
        "id": "C7qsdW2UNsTd"
      }
    }
  ]
}