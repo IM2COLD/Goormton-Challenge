{
  "nbformat": 4,
  "nbformat_minor": 0,
  "metadata": {
    "colab": {
      "provenance": []
    },
    "kernelspec": {
      "name": "python3",
      "display_name": "Python 3"
    },
    "language_info": {
      "name": "python"
    }
  },
  "cells": [
    {
      "cell_type": "code",
      "execution_count": 1,
      "metadata": {
        "colab": {
          "base_uri": "https://localhost:8080/"
        },
        "id": "d4-6FYdiI8Sv",
        "outputId": "572f529b-a968-432a-8388-6cc83ff9e897"
      },
      "outputs": [
        {
          "output_type": "stream",
          "name": "stdout",
          "text": [
            "0x7f5d2cc86330\n"
          ]
        }
      ],
      "source": [
        "a = 1000\n",
        "print(hex(id(a)))\n",
        "# id(obj)는 해당 객체 / 변수의 메모리 주소값을 반환하는 함수\n",
        "# hex는 16진수로 바꿔주는 함수"
      ]
    },
    {
      "cell_type": "markdown",
      "source": [
        "1 . 1000의 값을 메모리 주소에 담는다.\n",
        "\n",
        "2 . a라는 변수는 그 메모리 주소를 참조한다."
      ],
      "metadata": {
        "id": "rzW6lmvSJBdR"
      }
    },
    {
      "cell_type": "code",
      "source": [
        "a = [1,2,3]\n",
        "b = [1,2,3]\n",
        "print(a is b)\n",
        "# ==은 값을 비교하는 비교연산자\n",
        "print(a == b)\n",
        "# is는 주소값을 비교하는 비교연산자임"
      ],
      "metadata": {
        "colab": {
          "base_uri": "https://localhost:8080/"
        },
        "id": "Ku1yqfQiJjdf",
        "outputId": "b826fc98-a12f-4905-ec8a-94eaba4bdd4e"
      },
      "execution_count": 2,
      "outputs": [
        {
          "output_type": "stream",
          "name": "stdout",
          "text": [
            "False\n",
            "True\n"
          ]
        }
      ]
    },
    {
      "cell_type": "markdown",
      "source": [
        "-  == 연산자는 해당 값을 찾고 그 값을 비교하는 연산과정이 있고 is 는 바로 주소값을 비교하기때문에 is가 == 에 비해 약간 더 빠르다."
      ],
      "metadata": {
        "id": "h4vXKE7lJV1y"
      }
    },
    {
      "cell_type": "markdown",
      "source": [
        "### 파이썬의 자료형 mutable vs immutable\n",
        "- mutable형은 변경 가능한 객체이다. 객체 값이 변경되더라도 메모리의 재할당이 일어나지 않는다. 예로 set, list, dict 등이 있다."
      ],
      "metadata": {
        "id": "7dTqx-oyJxZ9"
      }
    },
    {
      "cell_type": "code",
      "source": [
        "mutable1 = ['alpha'] # list\n",
        "print(hex(id(mutable1)))\n",
        "\n",
        "mutable1.append('bravo')\n",
        "print(hex(id(mutable1)))"
      ],
      "metadata": {
        "colab": {
          "base_uri": "https://localhost:8080/"
        },
        "id": "RNWeP6t1J8f_",
        "outputId": "3a396eb5-3018-470e-a0ce-e0982de0722b"
      },
      "execution_count": 3,
      "outputs": [
        {
          "output_type": "stream",
          "name": "stdout",
          "text": [
            "0x7f5d2cb4bbc0\n",
            "0x7f5d2cb4bbc0\n"
          ]
        }
      ]
    },
    {
      "cell_type": "markdown",
      "source": [
        "- immutable\n",
        "- immutable형은 변경 불가능한 객체로 객체값 변경 시 메모리에서 재할당이 일어난다. 예로 int, float, string 등 대부분 원시 자료형들이 속한다."
      ],
      "metadata": {
        "id": "y-SXqK4-KCMe"
      }
    },
    {
      "cell_type": "code",
      "source": [
        "immutable1 = 1000 # int\n",
        "print(hex(id(immutable1)))\n",
        "\n",
        "immutable1 += 1\n",
        "print(hex(id(immutable1)))"
      ],
      "metadata": {
        "colab": {
          "base_uri": "https://localhost:8080/"
        },
        "id": "B77D6tu4KHJP",
        "outputId": "60cd81f0-e327-42d6-bdec-95e4c82030fb"
      },
      "execution_count": 4,
      "outputs": [
        {
          "output_type": "stream",
          "name": "stdout",
          "text": [
            "0x7f5d2cc87010\n",
            "0x7f5d2cc87050\n"
          ]
        }
      ]
    },
    {
      "cell_type": "markdown",
      "source": [
        "**b에만 'Wed' element를 더했는데 a에도 더해져있다. mutable형인 list a와 b는 서로 같은 주소값을 참조하고 있기때문에 서로 종속된 관계를 갖는다.**"
      ],
      "metadata": {
        "id": "Gmokzc1QKS7v"
      }
    },
    {
      "cell_type": "code",
      "source": [
        "a = ['Mon', 'Tue']\n",
        "b = a\n",
        "b.append('Wed')\n",
        "print(a, b, a is b)"
      ],
      "metadata": {
        "colab": {
          "base_uri": "https://localhost:8080/"
        },
        "id": "E1k1Pw2WKRzP",
        "outputId": "d4e84365-58ec-49b9-bb4e-dc9c738a72bf"
      },
      "execution_count": 5,
      "outputs": [
        {
          "output_type": "stream",
          "name": "stdout",
          "text": [
            "['Mon', 'Tue', 'Wed'] ['Mon', 'Tue', 'Wed'] True\n"
          ]
        }
      ]
    },
    {
      "cell_type": "markdown",
      "source": [
        "solution\n",
        "- slicing으로 해결 or copy 함수를 통해 해결\n",
        "> b = a.copy()"
      ],
      "metadata": {
        "id": "Ss6u28RQKdge"
      }
    },
    {
      "cell_type": "code",
      "source": [
        "a = ['Mon', 'Tue']\n",
        "b = a[:]\n",
        "b.append('Wed')\n",
        "print(a, b, a is b)"
      ],
      "metadata": {
        "colab": {
          "base_uri": "https://localhost:8080/"
        },
        "id": "C0VqdfpzKfZG",
        "outputId": "f22ea350-6ec3-4beb-de9d-bfac77347600"
      },
      "execution_count": 6,
      "outputs": [
        {
          "output_type": "stream",
          "name": "stdout",
          "text": [
            "['Mon', 'Tue'] ['Mon', 'Tue', 'Wed'] False\n"
          ]
        }
      ]
    },
    {
      "cell_type": "markdown",
      "source": [
        "- list안의 list (nested list)는 완전히 copy가 되지 않았음을 알 수 있다.\n",
        "- slice와 copy의 작동원리는 새로운 객체를 만들고(새로운 주소에) element의 주소값을 복사해 넣는 것이기 때문에 nested list의 주소값은 마찬가지로 종속된 관계가 되어서 이런 일이 일어났다. 이것을 해결하기 위한 모듈이 있다.\n",
        "\n",
        "> import copy => copy.deepcopy()"
      ],
      "metadata": {
        "id": "S2BuZqs7K3nO"
      }
    },
    {
      "cell_type": "code",
      "source": [
        "import copy\n",
        "a = ['Head', ['Sub']]\n",
        "b = copy.deepcopy(a)\n",
        "b[1].append('Sub2')\n",
        "print(a, b)"
      ],
      "metadata": {
        "colab": {
          "base_uri": "https://localhost:8080/"
        },
        "id": "ut2EBCk2LDWt",
        "outputId": "c983168c-d0dc-4e6a-8919-93994564cc15"
      },
      "execution_count": 7,
      "outputs": [
        {
          "output_type": "stream",
          "name": "stdout",
          "text": [
            "['Head', ['Sub']] ['Head', ['Sub', 'Sub2']]\n"
          ]
        }
      ]
    }
  ]
}