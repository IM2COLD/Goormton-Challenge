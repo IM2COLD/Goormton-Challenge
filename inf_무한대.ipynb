{
  "nbformat": 4,
  "nbformat_minor": 0,
  "metadata": {
    "colab": {
      "provenance": []
    },
    "kernelspec": {
      "name": "python3",
      "display_name": "Python 3"
    },
    "language_info": {
      "name": "python"
    }
  },
  "cells": [
    {
      "cell_type": "markdown",
      "source": [
        "- inf 무한대 : 알고리즘 문제에서 최소, 최댓값을 구할 때 자주 사용한다.\n",
        "- 최솟값을 저장하는 변수에 아주 큰 값을 할당해야 할 떄가 있다."
      ],
      "metadata": {
        "id": "6cyiPtudwMBo"
      }
    },
    {
      "cell_type": "markdown",
      "source": [
        "```python\n",
        "import math\n",
        "positive = math.inf  \n",
        "type(positive)\n",
        ">>> float\n",
        "```\n",
        "- math 모듈을 import 해서 불러온 inf의 경우 그 자체로 float 실수형 data이다.\n",
        "\n",
        "```python\n",
        "a = \"inf\"\n",
        "type(a)\n",
        ">>> str\n",
        "\n",
        "a = float(a)\n",
        "type(a)\n",
        ">>> float\n",
        "\n",
        "b = float(a)\n",
        "b\n",
        ">>> inf\n",
        "\n",
        "```\n",
        "- 그러나 그냥 \"inf\" 문자열로 값을 지정해준 경우엔, float 형으로 자료형을 변환해주기 전까지는 그냥 string이다.\n",
        "\n"
      ],
      "metadata": {
        "id": "vV84pgOjw1Wa"
      }
    },
    {
      "cell_type": "code",
      "execution_count": null,
      "metadata": {
        "id": "LXn_vPmdSNEr"
      },
      "outputs": [],
      "source": [
        "# 무한수는 float형에만 적용 가능하다. int형에는 적용 불가능하다.\n",
        "\n",
        "positive = float(\"inf\")          # 양의 무한대\n",
        ">>> print(positive)\n",
        "# inf\n",
        "\n",
        "negative = float(\"-inf\")         # 음의 무한대\n",
        ">>> print(negative)\n",
        "# -inf\n",
        "\n",
        ">>> positive = int(float(\"inf\"))\n",
        ">>> print(positive)\n",
        "OverflowError: cannot convert float infinity to integer         # 에러 발생\n",
        "\n",
        "================================================================================\n",
        "\n",
        "import math\n",
        "\n",
        ">>> positive = math.inf              # 양의 무한대\n",
        ">>> print(positive)\n",
        "inf"
      ]
    },
    {
      "cell_type": "code",
      "source": [
        "# int타입의 양, 음의 무한대\n",
        "\n",
        "import sys\n",
        "\n",
        "max_int = sys.maxsize\n",
        "min_int = -(sys.maxsize + 1)"
      ],
      "metadata": {
        "id": "-XMZ4v2J1qmK"
      },
      "execution_count": null,
      "outputs": []
    }
  ]
}