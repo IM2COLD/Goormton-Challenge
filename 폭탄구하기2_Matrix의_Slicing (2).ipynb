{
  "nbformat": 4,
  "nbformat_minor": 0,
  "metadata": {
    "colab": {
      "provenance": []
    },
    "kernelspec": {
      "name": "python3",
      "display_name": "Python 3"
    },
    "language_info": {
      "name": "python"
    }
  },
  "cells": [
    {
      "cell_type": "code",
      "execution_count": null,
      "metadata": {
        "colab": {
          "base_uri": "https://localhost:8080/"
        },
        "id": "Edg2EZt_eLB3",
        "outputId": "8bd562cb-b037-44fd-dc90-b8bfe9f3c8e2"
      },
      "outputs": [
        {
          "name": "stdout",
          "output_type": "stream",
          "text": [
            "4 4\n",
            "0 0 @ 0\n",
            "0 0 0 0\n",
            "0 # 0 0\n",
            "0 0 0 @\n"
          ]
        }
      ],
      "source": [
        "# Error Code\n",
        "scoremap = scoremap[1:N+1][1:N+1]\n",
        "\n",
        "real = []\n",
        "for a in range(0,N):\n",
        "\tfor b in range(0,N):\n",
        "\t\treal.append(int(scoremap[a][b]))\n",
        "\n",
        "print(max(real))"
      ]
    },
    {
      "cell_type": "code",
      "source": [
        "# Revised Code\n",
        "N, K = map(int, input().split())\n",
        "bombmap = []\n",
        "zero = list('0' * (N+2))\n",
        "bombmap.append(zero)\n",
        "for i in range(N):\n",
        "    onerow = ['0'] + input().split() + ['0']\n",
        "    bombmap.append(onerow)\n",
        "bombmap.append(zero)\n",
        "\n",
        "r = 0\n",
        "c = 0\n",
        "\n",
        "def score(scr):\n",
        "    if scr.isdigit():\n",
        "        return 1\n",
        "    if scr == '#':\n",
        "        return 0\n",
        "    if scr == '@':\n",
        "        return 2\n",
        "\n",
        "scoremap = []\n",
        "for h in range(N+2):\n",
        "    k = list('0' * (N+2))\n",
        "    scoremap.append(k)\n",
        "\n",
        "for k in range(K):\n",
        "    r, c = map(int, input().split())\n",
        "    scoremap[r-1][c] = str(int(scoremap[r-1][c]) + score(bombmap[r-1][c]))\n",
        "    scoremap[r][c-1] = str(int(scoremap[r][c-1]) + score(bombmap[r][c-1]))\n",
        "    scoremap[r][c] = str(int(scoremap[r][c]) + score(bombmap[r][c]))\n",
        "    scoremap[r][c+1] = str(int(scoremap[r][c+1]) + score(bombmap[r][c+1]))\n",
        "    scoremap[r+1][c] = str(int(scoremap[r+1][c]) + score(bombmap[r+1][c]))\n",
        "\n",
        "# Corrected line to create a submatrix\n",
        "# The indices 1 to N are selected for both rows and columns.\n",
        "scoremap = [row[1:N+1] for row in scoremap[1:N+1]]\n",
        "\n",
        "real = []\n",
        "for a in range(N):\n",
        "    for b in range(N):\n",
        "        real.append(int(scoremap[a][b]))\n",
        "\n",
        "print(max(real))"
      ],
      "metadata": {
        "id": "I11gJSdk5-N7"
      },
      "execution_count": null,
      "outputs": []
    },
    {
      "cell_type": "code",
      "source": [
        "# Answer Code\n",
        "N, K = map(int, input().split())\n",
        "arr = [list(input().split()) for _ in range(N)]\n",
        "score = [[0] * N for _ in range(N)]\n",
        "\n",
        "dy = [0, 1, -1, 0, 0]\n",
        "dx = [0, 0, 0, 1, -1]\n",
        "\n",
        "for _ in range(K):\n",
        "\ty, x = map(int, input().split())\n",
        "\ty -= 1\n",
        "\tx -= 1\n",
        "\n",
        "\tfor k in range(5):\n",
        "\t\tny = y + dy[k]\n",
        "\t\tnx = x + dx[k]\n",
        "\n",
        "\t\tif ny < 0 or ny >= N or nx < 0 or nx >= N or arr[ny][nx] == \"#\":\n",
        "\t\t\tcontinue\n",
        "\n",
        "\t\tif arr[ny][nx] == \"@\":\n",
        "\t\t\tscore[ny][nx] += 2\n",
        "\t\telse:\n",
        "\t\t\tscore[ny][nx] += 1\n",
        "\n",
        "result = 0\n",
        "\n",
        "for i in range(N):\n",
        "\tfor j in range(N):\n",
        "\t\tresult = max(result, score[i][j])\n",
        "\n",
        "print(result)"
      ],
      "metadata": {
        "id": "BEjB37B3LW2H"
      },
      "execution_count": null,
      "outputs": []
    },
    {
      "cell_type": "markdown",
      "source": [
        "> result = max(result, score[i][j])\n",
        "\n",
        "-  여기서 result는 현재까지 찾아낸 가장 큰 값이 저장되는 변수\n",
        "- 이중 반복문을 통해 2차원 리스트 score의 각 원소에 접근하고, 현재까지 찾아낸 가장 큰 값인 result와 현재 위치의 값인 score[i][j]를 비교합니다. max(result, score[i][j])는 두 값 중에서 더 큰 값을 선택하여 result에 저장합니다. 이 과정을 모든 원소에 대해 반복하면, result에는 score에서 가장 큰 값이 저장되게 됩니다."
      ],
      "metadata": {
        "id": "3Q7ZXsF_L5ko"
      }
    },
    {
      "cell_type": "markdown",
      "source": [
        "### 문제점 : matrix의 slicing\n",
        "\n",
        "\n",
        "```python\n",
        "scoremap = scoremap[1:N+1][1:N+1]\n",
        "```\n",
        "> scoremap[1:N+1]: This slices the rows from index 1 to N (both inclusive) in the outer list (dimension 1). It extracts a sublist containing the desired rows.\n",
        "\n",
        "> [1:N+1] applied to the result of the first slice: This tries to slice each row in the sublist obtained in the first step, keeping only elements from index 1 to N (both inclusive) in each row. However, due to how Python handles this type of slicing, it doesn't work as expected for multidimensional lists.\n",
        "\n",
        "- 이 코드를 사용해서 matrix를 slicing하려 했다.\n",
        "- index가 1인 행부터 N까지인 행을 고르고 그 다음, index가 1인 행부터 N까지인 열을 고르려고 한 것이었다.\n",
        "- 그러나, 파이썬은 행을 고르고 그 결과로 이루어진 matrix의 행을 또 고른다. 아래의 코드를 보면 이해가 갈 것이다.\n",
        "\n",
        "```python\n",
        "b = [[1,2],[3,4,5],[6,7,8,9],[1,4,7,8],[3,7,6,5,]]\n",
        "b = b[2:4][0:2]\n",
        "print(b)\n",
        "# [[6, 7, 8, 9], [1, 4, 7, 8]]\n",
        "```\n",
        "\n",
        "The reason the line scoremap = scoremap[1:N+1][1:N+1] is not working as expected is due to the way Python handles list slicing. When you use two slices consecutively like this, it first slices the rows with [1:N+1] and then attempts to slice the resulting list with [1:N+1] again. This is not the correct way to extract a submatrix from a 2D list.\n",
        "\n",
        "In Python, you should use list comprehension to create a new 2D list that contains the desired submatrix. The corrected line is:\n",
        "\n",
        "```python\n",
        "scoremap = [row[1:N+1] for row in scoremap[1:N+1]]\n",
        "```\n",
        "This line iterates through each row in scoremap[1:N+1] and creates a new list with elements from index 1 to N. This correctly extracts the submatrix.\n",
        "\n",
        "I apologize for any confusion caused by the incorrect explanation in my previous responses. I appreciate your patience, and I hope this clarification helps.\n",
        "\n",
        "-  It creates a new list by iterating through each row in the sliced list and selecting the elements from index 1 to N, effectively extracting the desired submatrix.\n",
        "\n",
        "> 1. scoremap[1:N+1]: This part extracts the submatrix consisting of rows from index 1 to N (both inclusive). Each element of this submatrix is a list representing a row.\n",
        "2. row[1:N+1] for row in scoremap[1:N+1]: This is a list comprehension that iterates over each row in the submatrix obtained in step 1. For each row, it selects elements from index 1 to N (both inclusive), effectively creating a new list representing a row without the first and last elements.\n",
        "- So, after this line, scoremap is assigned a list of lists, where each sublist represents a row of the desired submatrix without the outermost layer of zeros."
      ],
      "metadata": {
        "id": "RFoBN2KDqgAo"
      }
    },
    {
      "cell_type": "code",
      "source": [
        "a = [[1,2],[3, 4]]\n",
        "a[1][1] = 5\n",
        "print(a)"
      ],
      "metadata": {
        "colab": {
          "base_uri": "https://localhost:8080/"
        },
        "id": "bg31hTRFhsKx",
        "outputId": "a69d5cee-8eb0-4af0-9dd9-0ec82a82df32"
      },
      "execution_count": null,
      "outputs": [
        {
          "output_type": "stream",
          "name": "stdout",
          "text": [
            "[[1, 2], [3, 5]]\n"
          ]
        }
      ]
    },
    {
      "cell_type": "markdown",
      "source": [
        "### **문자 판별 isalpha()**\n",
        "```python\n",
        "name = 'Tom'\n",
        "print(name.isalpha())\n",
        "# True\n",
        "```\n",
        "### **숫자 판별 isdigit()**\n",
        "```python\n",
        "name = '2425'\n",
        "print(name.isdigit())\n",
        "# True\n",
        "```\n",
        "\n",
        "### **isdecimal()**\n",
        "-  isdigit() 함수는 단일 글자가 '숫자' 모양으로 생겼으면 무조건 True를 반환하는 함수. 즉, 숫자처럼 생긴 '모든 글자'를 숫자로 친다.\n",
        "그에 비해 isdecimal() 함수는 주어진 문자열이 int형으로 변환이 가능한지 알아내는 함수이기 때문에 특수문자 중 숫자모양을 숫자로 치지않는다.\n",
        "- isnumeric() 함수는 숫자값 표현에 해당하는 문자열까지 인정한다. 제곱근 및 분수, 거듭제곱 특수문자도 isnumeric() 함수는 True를 반환하는 것을 알 수 있다.\n"
      ],
      "metadata": {
        "id": "FcyH4zv3ggxR"
      }
    }
  ]
}